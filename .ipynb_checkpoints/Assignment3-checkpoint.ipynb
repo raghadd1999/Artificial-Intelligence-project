{
 "cells": [
  {
   "cell_type": "code",
   "execution_count": 1,
   "metadata": {
    "scrolled": false
   },
   "outputs": [
    {
     "name": "stderr",
     "output_type": "stream",
     "text": [
      "In C:\\Users\\HP\\Anaconda3\\lib\\site-packages\\matplotlib\\mpl-data\\stylelib\\_classic_test.mplstyle: \n",
      "The text.latex.preview rcparam was deprecated in Matplotlib 3.3 and will be removed two minor releases later.\n",
      "In C:\\Users\\HP\\Anaconda3\\lib\\site-packages\\matplotlib\\mpl-data\\stylelib\\_classic_test.mplstyle: \n",
      "The mathtext.fallback_to_cm rcparam was deprecated in Matplotlib 3.3 and will be removed two minor releases later.\n",
      "In C:\\Users\\HP\\Anaconda3\\lib\\site-packages\\matplotlib\\mpl-data\\stylelib\\_classic_test.mplstyle: Support for setting the 'mathtext.fallback_to_cm' rcParam is deprecated since 3.3 and will be removed two minor releases later; use 'mathtext.fallback : 'cm' instead.\n",
      "In C:\\Users\\HP\\Anaconda3\\lib\\site-packages\\matplotlib\\mpl-data\\stylelib\\_classic_test.mplstyle: \n",
      "The validate_bool_maybe_none function was deprecated in Matplotlib 3.3 and will be removed two minor releases later.\n",
      "In C:\\Users\\HP\\Anaconda3\\lib\\site-packages\\matplotlib\\mpl-data\\stylelib\\_classic_test.mplstyle: \n",
      "The savefig.jpeg_quality rcparam was deprecated in Matplotlib 3.3 and will be removed two minor releases later.\n",
      "In C:\\Users\\HP\\Anaconda3\\lib\\site-packages\\matplotlib\\mpl-data\\stylelib\\_classic_test.mplstyle: \n",
      "The keymap.all_axes rcparam was deprecated in Matplotlib 3.3 and will be removed two minor releases later.\n",
      "In C:\\Users\\HP\\Anaconda3\\lib\\site-packages\\matplotlib\\mpl-data\\stylelib\\_classic_test.mplstyle: \n",
      "The animation.avconv_path rcparam was deprecated in Matplotlib 3.3 and will be removed two minor releases later.\n",
      "In C:\\Users\\HP\\Anaconda3\\lib\\site-packages\\matplotlib\\mpl-data\\stylelib\\_classic_test.mplstyle: \n",
      "The animation.avconv_args rcparam was deprecated in Matplotlib 3.3 and will be removed two minor releases later.\n"
     ]
    }
   ],
   "source": [
    "import pandas as pd\n",
    "import numpy as np\n",
    "from numpy import random\n",
    "import matplotlib.pyplot as plt\n",
    "import seaborn as sns\n",
    "import math"
   ]
  },
  {
   "cell_type": "code",
   "execution_count": 2,
   "metadata": {
    "scrolled": false
   },
   "outputs": [
    {
     "data": {
      "text/html": [
       "<div>\n",
       "<style scoped>\n",
       "    .dataframe tbody tr th:only-of-type {\n",
       "        vertical-align: middle;\n",
       "    }\n",
       "\n",
       "    .dataframe tbody tr th {\n",
       "        vertical-align: top;\n",
       "    }\n",
       "\n",
       "    .dataframe thead th {\n",
       "        text-align: right;\n",
       "    }\n",
       "</style>\n",
       "<table border=\"1\" class=\"dataframe\">\n",
       "  <thead>\n",
       "    <tr style=\"text-align: right;\">\n",
       "      <th></th>\n",
       "      <th>CATEGORY</th>\n",
       "      <th>ITEM</th>\n",
       "      <th>CALORIES</th>\n",
       "      <th>TYPE</th>\n",
       "      <th>PRICE</th>\n",
       "    </tr>\n",
       "  </thead>\n",
       "  <tbody>\n",
       "    <tr>\n",
       "      <td>0</td>\n",
       "      <td>STARTER</td>\n",
       "      <td>Dynamite shrimp</td>\n",
       "      <td>770.0</td>\n",
       "      <td>Vegetarian</td>\n",
       "      <td>74</td>\n",
       "    </tr>\n",
       "    <tr>\n",
       "      <td>1</td>\n",
       "      <td>STARTER</td>\n",
       "      <td>Halloumi fries</td>\n",
       "      <td>530.0</td>\n",
       "      <td>Vegetarian</td>\n",
       "      <td>48</td>\n",
       "    </tr>\n",
       "    <tr>\n",
       "      <td>2</td>\n",
       "      <td>STARTER</td>\n",
       "      <td>Baked eggplant</td>\n",
       "      <td>270.0</td>\n",
       "      <td>Vegan</td>\n",
       "      <td>36</td>\n",
       "    </tr>\n",
       "    <tr>\n",
       "      <td>3</td>\n",
       "      <td>STARTER</td>\n",
       "      <td>Fish cake</td>\n",
       "      <td>480.0</td>\n",
       "      <td>Vegetarian</td>\n",
       "      <td>60</td>\n",
       "    </tr>\n",
       "    <tr>\n",
       "      <td>4</td>\n",
       "      <td>STARTER</td>\n",
       "      <td>Lentil soup</td>\n",
       "      <td>290.0</td>\n",
       "      <td>Vegan</td>\n",
       "      <td>26</td>\n",
       "    </tr>\n",
       "    <tr>\n",
       "      <td>...</td>\n",
       "      <td>...</td>\n",
       "      <td>...</td>\n",
       "      <td>...</td>\n",
       "      <td>...</td>\n",
       "      <td>...</td>\n",
       "    </tr>\n",
       "    <tr>\n",
       "      <td>63</td>\n",
       "      <td>COLD DRINK</td>\n",
       "      <td>Ice Latte</td>\n",
       "      <td>160.0</td>\n",
       "      <td>Vegetarian</td>\n",
       "      <td>18</td>\n",
       "    </tr>\n",
       "    <tr>\n",
       "      <td>64</td>\n",
       "      <td>COLD DRINK</td>\n",
       "      <td>Large Water</td>\n",
       "      <td>0.0</td>\n",
       "      <td>Vegan</td>\n",
       "      <td>10</td>\n",
       "    </tr>\n",
       "    <tr>\n",
       "      <td>65</td>\n",
       "      <td>COLD DRINK</td>\n",
       "      <td>Small Water</td>\n",
       "      <td>0.0</td>\n",
       "      <td>Vegan</td>\n",
       "      <td>10</td>\n",
       "    </tr>\n",
       "    <tr>\n",
       "      <td>66</td>\n",
       "      <td>COLD DRINK</td>\n",
       "      <td>Raspberry Mojito</td>\n",
       "      <td>129.4</td>\n",
       "      <td>Vegan</td>\n",
       "      <td>28</td>\n",
       "    </tr>\n",
       "    <tr>\n",
       "      <td>67</td>\n",
       "      <td>COLD DRINK</td>\n",
       "      <td>Blueberry Mojito</td>\n",
       "      <td>136.0</td>\n",
       "      <td>Vegan</td>\n",
       "      <td>30</td>\n",
       "    </tr>\n",
       "  </tbody>\n",
       "</table>\n",
       "<p>68 rows × 5 columns</p>\n",
       "</div>"
      ],
      "text/plain": [
       "      CATEGORY              ITEM  CALORIES        TYPE  PRICE\n",
       "0      STARTER   Dynamite shrimp     770.0  Vegetarian     74\n",
       "1      STARTER    Halloumi fries     530.0  Vegetarian     48\n",
       "2      STARTER    Baked eggplant     270.0       Vegan     36\n",
       "3      STARTER         Fish cake     480.0  Vegetarian     60\n",
       "4      STARTER       Lentil soup     290.0       Vegan     26\n",
       "..         ...               ...       ...         ...    ...\n",
       "63  COLD DRINK         Ice Latte     160.0  Vegetarian     18\n",
       "64  COLD DRINK       Large Water       0.0       Vegan     10\n",
       "65  COLD DRINK       Small Water       0.0       Vegan     10\n",
       "66  COLD DRINK  Raspberry Mojito     129.4       Vegan     28\n",
       "67  COLD DRINK  Blueberry Mojito     136.0       Vegan     30\n",
       "\n",
       "[68 rows x 5 columns]"
      ]
     },
     "execution_count": 2,
     "metadata": {},
     "output_type": "execute_result"
    }
   ],
   "source": [
    "df= pd.read_excel('C:/Users/HP/Desktop/University/Level 7/AI/Assignment/Assignment3/dataset.xlsx') \n",
    "df"
   ]
  },
  {
   "cell_type": "code",
   "execution_count": 3,
   "metadata": {},
   "outputs": [],
   "source": [
    "#Solution representation. \n",
    "#STARTER\t 0-11\n",
    "#MAIN COURSE\t 12-29\n",
    "#DESSERT\t 30-47\n",
    "#HOT DRINK\t 48-55\n",
    "#COLD DRINK\t 56-67\n",
    "#Representation of individuals = [STARTER,MAIN COURSE,DESSERT,HOT DRINK,COLD DRINK]"
   ]
  },
  {
   "cell_type": "code",
   "execution_count": 41,
   "metadata": {},
   "outputs": [],
   "source": [
    "#Fitness function\n",
    "#TYPE:0.4, PRICE:0.4, CALORIES:0.2\n",
    "\n",
    "def Fitness(Pk):\n",
    "        Fitness=[]\n",
    "        typeError= 0\n",
    "        totslCalories = 0\n",
    "        totalPrice = 0\n",
    "\n",
    "        #For each cromosome\n",
    "        for index, row in Pk.iterrows():\n",
    "            typeError= 0\n",
    "            totslCalories = 0\n",
    "            totalPrice = 0\n",
    "            \n",
    "            #For each gene\n",
    "            for x in range(5):\n",
    "                if row[x] == -1 :\n",
    "                    continue\n",
    "                index = row[x]\n",
    "                check = df.loc[ index:index ,  ]\n",
    "                checkT= str(check.TYPE)\n",
    "                \n",
    "                #type\n",
    "                if itemtype == \"Vegan\":\n",
    "                    if itemtype not in checkT:\n",
    "                        typeError += 1\n",
    "                elif itemtype == \"Vegetarian\":\n",
    "                    if itemtype not in checkT and \"Vegan\" not in checkT:\n",
    "                        typeError += 1\n",
    "                    \n",
    "                #calories\n",
    "                totslCalories+=int(check.CALORIES)\n",
    "                \n",
    "                #price\n",
    "                totalPrice +=int(check.PRICE)\n",
    "            \n",
    "            typeF = 1 - (typeError / 5)\n",
    "\n",
    "            if budget >= totalPrice:\n",
    "                priceF = 1\n",
    "            else:\n",
    "                priceF = budget / totalPrice\n",
    "            \n",
    "            if calories >= totslCalories:\n",
    "                calorieF = 1\n",
    "            else:\n",
    "                calorieF = calories / totslCalories \n",
    "\n",
    "            fitness = (typeF * 0.4) + (priceF * 0.4) + (calorieF * 0.2)\n",
    "            Fitness.append(fitness)\n",
    "\n",
    "        Pk[\"Fitness\"]=Fitness"
   ]
  },
  {
   "cell_type": "code",
   "execution_count": 42,
   "metadata": {},
   "outputs": [],
   "source": [
    "#Crossover\n",
    "def Crossover(parent1, parent2):\n",
    "    children = pd.DataFrame(columns=['STARTER','MAIN COURSE','DESSERT','HOT DRINK','COLD DRINK','Fitness'])\n",
    "    parent1 = parent1[['STARTER','MAIN COURSE','DESSERT','HOT DRINK','COLD DRINK']].values.tolist()\n",
    "    parent2 = parent2[['STARTER','MAIN COURSE','DESSERT','HOT DRINK','COLD DRINK']].values.tolist()\n",
    "    \n",
    "    crossoverPoint = random.randint(1,5) \n",
    " \n",
    "    child1 = np.append(parent1[0][:crossoverPoint],parent2[0][crossoverPoint:])\n",
    "    child2 = np.append(parent2[0][:crossoverPoint],parent1[0][crossoverPoint:])\n",
    "\n",
    "    children = children.append({'STARTER':child1[0],'MAIN COURSE':child1[1],'DESSERT':child1[2],'HOT DRINK':child1[3],'COLD DRINK':child1[4]},ignore_index=True)\n",
    "    children = children.append({'STARTER':child2[0],'MAIN COURSE':child2[1],'DESSERT':child2[2],'HOT DRINK':child2[3],'COLD DRINK':child2[4]},ignore_index=True)\n",
    "    children[['STARTER','MAIN COURSE','DESSERT','HOT DRINK','COLD DRINK']] = children[['STARTER','MAIN COURSE','DESSERT','HOT DRINK','COLD DRINK']].astype(int)\n",
    "    children['Fitness'] = children['Fitness'].fillna(0)\n",
    "    \n",
    "    #Compute fitness \n",
    "    Fitness(children)\n",
    "    return children"
   ]
  },
  {
   "cell_type": "code",
   "execution_count": 43,
   "metadata": {},
   "outputs": [],
   "source": [
    "#Roulette wheel selection\n",
    "def Selection(Pk):\n",
    "    sum_of_fitness = 0\n",
    "    for i in range(len(Pk)):\n",
    "        sum_of_fitness += Pk['Fitness'][i]\n",
    "\n",
    "    r = random.rand()\n",
    "    summ = 0\n",
    "    i=0\n",
    "    for i in range(len(Pk)):\n",
    "        summ = summ + (Pk['Fitness'][i]/sum_of_fitness)\n",
    "        if r<summ:\n",
    "            return Pk.loc[[i]]   "
   ]
  },
  {
   "cell_type": "code",
   "execution_count": 44,
   "metadata": {},
   "outputs": [],
   "source": [
    "#Mutation\n",
    "def Mutation(Pk2):\n",
    "    cromosome = random.randint(0,len(Pk2))\n",
    "    mutationPoint=  random.randint(0,5)\n",
    "    mutation = random.randint(0,2)\n",
    "\n",
    "    if mutation == 0:\n",
    "        Pk2.ix[cromosome,mutationPoint] =  -1\n",
    "    else:\n",
    "        if mutationPoint == 0:\n",
    "            Pk2.ix[cromosome,mutationPoint] = random.randint(0,12)\n",
    "        elif mutationPoint == 1:\n",
    "            Pk2.ix[cromosome,mutationPoint] = random.randint(12,30)\n",
    "        elif mutationPoint == 2:\n",
    "            Pk2.ix[cromosome,mutationPoint] = random.randint(30,48)\n",
    "        elif mutationPoint == 3:\n",
    "            Pk2.ix[cromosome,mutationPoint] = random.randint(48,56)\n",
    "        else:\n",
    "            Pk2.ix[cromosome,mutationPoint] = random.randint(56,68)\n",
    "    #Compute fitness\n",
    "    Fitness(Pk2)"
   ]
  },
  {
   "cell_type": "code",
   "execution_count": 45,
   "metadata": {},
   "outputs": [],
   "source": [
    "#Replacement\n",
    "#Replace with the worest parant\n",
    "def Replacement(Pk,Pk2):\n",
    "    #delete similarity with parent\n",
    "    for i in range(len(Pk)):\n",
    "        for j in range(len(Pk2)):\n",
    "            if Pk['STARTER'][i]==Pk2['STARTER'][j] and Pk['MAIN COURSE'][i]==Pk2['MAIN COURSE'][j] and Pk['DESSERT'][i]==Pk2['DESSERT'][j] and Pk['HOT DRINK'][i]==Pk2['HOT DRINK'][j] and Pk['COLD DRINK'][i]==Pk2['COLD DRINK'][j]:\n",
    "                Pk2 = Pk2.drop([j])\n",
    "                \n",
    "        Pk2.reset_index(inplace=True)\n",
    "        Pk2.drop(columns=['index'], inplace=True)\n",
    "\n",
    "    #delete similarity with children\n",
    "    length = len(Pk2)\n",
    "    for i in range(length):\n",
    "        if i >= len(Pk2):\n",
    "            break\n",
    "        for j in range(len(Pk2)):\n",
    "            if Pk2['STARTER'][i]==Pk2['STARTER'][j] and Pk2['MAIN COURSE'][i]==Pk2['MAIN COURSE'][j] and Pk2['DESSERT'][i]==Pk2['DESSERT'][j] and Pk2['HOT DRINK'][i]==Pk2['HOT DRINK'][j] and Pk2['COLD DRINK'][i]==Pk2['COLD DRINK'][j] and i != j:\n",
    "                Pk2 = Pk2.drop([j])\n",
    "                \n",
    "        Pk2.reset_index(inplace=True)\n",
    "        Pk2.drop(columns=['index'], inplace=True)\n",
    "\n",
    "    Pk.sort_values(by=['Fitness'], ascending=True, inplace=True)\n",
    "    Pk2.sort_values(by=['Fitness'], ascending=False, inplace=True)\n",
    "    \n",
    "    Pk.reset_index(inplace=True)\n",
    "    Pk.drop(columns=['index'], inplace=True)\n",
    "    Pk2.reset_index(inplace=True)\n",
    "    Pk2.drop(columns=['index'], inplace=True)\n",
    "    \n",
    "    replacment = pd.DataFrame(columns=['STARTER','MAIN COURSE','DESSERT','HOT DRINK','COLD DRINK','Fitness'])\n",
    "    for i in range(len(Pk)):\n",
    "        if i < len(Pk2):\n",
    "            if Pk['Fitness'][i]<Pk2['Fitness'][i]:\n",
    "                replacment =  replacment.append(Pk2.iloc[i])\n",
    "            else:\n",
    "                replacment = replacment.append(Pk.iloc[i]) \n",
    "        else:\n",
    "            replacment = replacment.append(Pk.iloc[i]) \n",
    "    replacment[['STARTER','MAIN COURSE','DESSERT','HOT DRINK','COLD DRINK']] = replacment[['STARTER','MAIN COURSE','DESSERT','HOT DRINK','COLD DRINK']].astype(int)\n",
    "    return replacment       "
   ]
  },
  {
   "cell_type": "code",
   "execution_count": 46,
   "metadata": {},
   "outputs": [],
   "source": [
    "#n: number of individuals in the population\n",
    "#c: crossover rate\n",
    "#m: mutation rate\n",
    "#k: #number of generation\n",
    "#fitnessAvg\n",
    "def GA(n, c, m, itemtype, budget, calories):\n",
    "    k = 0\n",
    "    fitnessAvg = pd.DataFrame(columns=['Fitness'])\n",
    "    totalFitness = 0\n",
    "    Pk = pd.DataFrame(columns=['STARTER','MAIN COURSE','DESSERT','HOT DRINK','COLD DRINK','Fitness'])\n",
    "    Pk2 = pd.DataFrame(columns=['STARTER','MAIN COURSE','DESSERT','HOT DRINK','COLD DRINK','Fitness'])\n",
    "\n",
    "#____________________________________________________________________\n",
    "    #1- Initialize first generation randomly\n",
    "    for i in range(n):\n",
    "        Pk = Pk.append({'STARTER':random.randint(0,12),'MAIN COURSE':random.randint(12,30),'DESSERT':random.randint(30,48),'HOT DRINK':random.randint(48,56),'COLD DRINK':random.randint(56,68)},ignore_index=True)\n",
    "    Pk[['STARTER','MAIN COURSE','DESSERT','HOT DRINK','COLD DRINK']] = Pk[['STARTER','MAIN COURSE','DESSERT','HOT DRINK','COLD DRINK']].astype(int)\n",
    "    Pk['Fitness'] = Pk['Fitness'].fillna(0)\n",
    "    #print(Pk)\n",
    "#____________________________________________________________________\n",
    "    \n",
    "    #2- Compute fitness \n",
    "    Fitness(Pk)\n",
    "    for i in range(n):\n",
    "        totalFitness += Pk['Fitness'][i] \n",
    "    fitnessAvg = fitnessAvg.append({'Fitness':totalFitness/n},ignore_index=True)  \n",
    "\n",
    "    Pk.sort_values(by=['Fitness'], ascending=False, inplace=True) \n",
    "    Pk.reset_index(inplace=True)\n",
    "    Pk.drop(columns=['index'], inplace=True)\n",
    "    if Pk['Fitness'][0] == 1:\n",
    "        flag = False\n",
    "    else:\n",
    "        flag = True\n",
    "             \n",
    "    #Start generation\n",
    "    while (flag):\n",
    "        #3- Crossover\n",
    "        #Roulette wheel selection parent\n",
    "        for i in range(math.ceil(c*n/2)):\n",
    "            Pk2 = Pk2.append(Crossover(Selection(Pk), Selection(Pk)))\n",
    "            \n",
    "        Pk2.reset_index(inplace=True)\n",
    "        Pk2.drop(columns=['index'], inplace=True)\n",
    "       \n",
    "        #4- Mutation\n",
    "        for i in range(math.ceil(m*n)):\n",
    "            Mutation(Pk2)\n",
    "\n",
    "        #5- Replacement \n",
    "        #new generation\n",
    "        Pk = Replacement(Pk,Pk2)\n",
    "\n",
    "        #6- Compute fitness \n",
    "        totalFitness = 0\n",
    "        for i in range(len(Pk)):\n",
    "            totalFitness += Pk['Fitness'][i] \n",
    "        fitnessAvg = fitnessAvg.append({'Fitness':totalFitness/n},ignore_index=True)   \n",
    "        Pk2 = Pk2[0:0]\n",
    "        \n",
    "        #7- Termination condition\n",
    "        Pk.sort_values(by=['Fitness'], ascending=False, inplace=True) \n",
    "        Pk.reset_index(inplace=True)\n",
    "        Pk.drop(columns=['index'], inplace=True)\n",
    "        \n",
    "        if Pk['Fitness'][0] == 1:\n",
    "            flag = False\n",
    "        elif len(fitnessAvg) >= 10:\n",
    "            if fitnessAvg[\"Fitness\"][len(fitnessAvg)-1] == fitnessAvg[\"Fitness\"][len(fitnessAvg)-2] and fitnessAvg[\"Fitness\"][len(fitnessAvg)-1] == fitnessAvg[\"Fitness\"][len(fitnessAvg)-3] and fitnessAvg[\"Fitness\"][len(fitnessAvg)-1] == fitnessAvg[\"Fitness\"][len(fitnessAvg)-4] and fitnessAvg[\"Fitness\"][len(fitnessAvg)-1] == fitnessAvg[\"Fitness\"][len(fitnessAvg)-5] and fitnessAvg[\"Fitness\"][len(fitnessAvg)-1] == fitnessAvg[\"Fitness\"][len(fitnessAvg)-6] and fitnessAvg[\"Fitness\"][len(fitnessAvg)-1] == fitnessAvg[\"Fitness\"][len(fitnessAvg)-7] and fitnessAvg[\"Fitness\"][len(fitnessAvg)-1] == fitnessAvg[\"Fitness\"][len(fitnessAvg)-8] and fitnessAvg[\"Fitness\"][len(fitnessAvg)-1] == fitnessAvg[\"Fitness\"][len(fitnessAvg)-9] and fitnessAvg[\"Fitness\"][len(fitnessAvg)-1] == fitnessAvg[\"Fitness\"][len(fitnessAvg)-10]:\n",
    "                   flag = False\n",
    "        else:\n",
    "            flag = True\n",
    "        \n",
    "     \n",
    "    print(\"The best meal is:\")\n",
    "    if(Pk[\"STARTER\"][0] != -1):\n",
    "        print(df.iloc[Pk[\"STARTER\"][0]])\n",
    "    if(Pk[\"MAIN COURSE\"][0] != -1):\n",
    "        print(df.iloc[Pk[\"MAIN COURSE\"][0]])\n",
    "    if(Pk[\"DESSERT\"][0] != -1):\n",
    "        print(df.iloc[Pk[\"DESSERT\"][0]])\n",
    "    if(Pk[\"HOT DRINK\"][0] != -1):\n",
    "        print(df.iloc[Pk[\"HOT DRINK\"][0]])\n",
    "    if(Pk[\"COLD DRINK\"][0] != -1):\n",
    "        print(df.iloc[Pk[\"COLD DRINK\"][0]])\n",
    "    print(\"Fitness\",[Pk[\"Fitness\"][0]])\n",
    "    #7- Plot\n",
    "    plt.plot(fitnessAvg)\n",
    "    plt.title('GA Performance')\n",
    "    plt.xlabel('Generations')\n",
    "    plt.ylabel('Fitness')\n",
    "    plt.show() "
   ]
  },
  {
   "cell_type": "code",
   "execution_count": 10,
   "metadata": {
    "scrolled": false
   },
   "outputs": [
    {
     "name": "stdout",
     "output_type": "stream",
     "text": [
      "Please enter the number of type  (1:Vegetarian  | 2:Vegan  | 3:Regular ): 3\n",
      "enter budget:100\n",
      "enter calories:500\n"
     ]
    }
   ],
   "source": [
    "#user input\n",
    "validItem = True\n",
    "\n",
    "while validItem:\n",
    "    itemtype = input(\"Please enter the number of type  (1:Vegetarian  | 2:Vegan  | 3:Regular ): \") \n",
    "    if  itemtype.isnumeric(): \n",
    "        itemtype = int(itemtype)\n",
    "    else:\n",
    "        print(\"Sorry, your input should be number !! (1:Vegetarian  | 2:Vegan  | 3:Regular )\")\n",
    "        continue   \n",
    "    \n",
    "    if itemtype == 1:\n",
    "        itemtype = 'Vegetarian'\n",
    "        validItem= False\n",
    "    elif itemtype == 2:\n",
    "        itemtype = 'Vegan'\n",
    "        validItem= False\n",
    "    elif itemtype == 3: \n",
    "        itemtype = 'Regular'\n",
    "        validItem= False     \n",
    "    else:\n",
    "        print(\"Sorry, your input should be number either (1:Vegetarian  | 2:Vegan  | 3:Regular )\")\n",
    "    \n",
    "\n",
    "#---------------------------------------------------------------------------------------------------------------        \n",
    "validBudget = True\n",
    "\n",
    "while  validBudget:\n",
    "    budget = input('enter budget:')\n",
    "    \n",
    "    if  budget.isnumeric():\n",
    "        budget = float(budget)\n",
    "    else:\n",
    "        print(\" your budget should  be number and not negative !!\") \n",
    "        continue\n",
    "        \n",
    "    if budget >= 0 :\n",
    "        validBudget= False\n",
    "  \n",
    "    else:\n",
    "        print(\" your budget should not be negative !!\")  \n",
    "        \n",
    "\n",
    "validCalories = True\n",
    "\n",
    "while  validCalories:\n",
    "    calories = input('enter calories:')\n",
    "    \n",
    "    if  calories.isnumeric():\n",
    "        calories = float(calories)\n",
    "    else:\n",
    "        print(\" your calories should  be number and not negative !!\") \n",
    "        continue\n",
    "        \n",
    "    if float(calories) >= 0 :\n",
    "        validCalories= False  \n",
    "    else:\n",
    "        print(\" your calories should not be negative !!\")    "
   ]
  },
  {
   "cell_type": "code",
   "execution_count": 11,
   "metadata": {},
   "outputs": [],
   "source": [
    "#combinations: 10,40,70/ 0.99,0.98,0.97/ 0.01,0.02,0.03 = 27"
   ]
  },
  {
   "cell_type": "code",
   "execution_count": 48,
   "metadata": {
    "scrolled": false
   },
   "outputs": [
    {
     "name": "stderr",
     "output_type": "stream",
     "text": [
      "C:\\Users\\HP\\Anaconda3\\lib\\site-packages\\ipykernel_launcher.py:8: FutureWarning: \n",
      ".ix is deprecated. Please use\n",
      ".loc for label based indexing or\n",
      ".iloc for positional indexing\n",
      "\n",
      "See the documentation here:\n",
      "http://pandas.pydata.org/pandas-docs/stable/user_guide/indexing.html#ix-indexer-is-deprecated\n",
      "  \n",
      "C:\\Users\\HP\\Anaconda3\\lib\\site-packages\\ipykernel_launcher.py:15: FutureWarning: \n",
      ".ix is deprecated. Please use\n",
      ".loc for label based indexing or\n",
      ".iloc for positional indexing\n",
      "\n",
      "See the documentation here:\n",
      "http://pandas.pydata.org/pandas-docs/stable/user_guide/indexing.html#ix-indexer-is-deprecated\n",
      "  from ipykernel import kernelapp as app\n"
     ]
    },
    {
     "name": "stdout",
     "output_type": "stream",
     "text": [
      "The best meal is:\n",
      "CATEGORY                          DESSERT\n",
      "ITEM        Signature Apricot almond tart\n",
      "CALORIES                              334\n",
      "TYPE                                Vegan\n",
      "PRICE                                  68\n",
      "Name: 46, dtype: object\n",
      "CATEGORY    HOT DRINK\n",
      "ITEM        Black tea\n",
      "CALORIES            0\n",
      "TYPE            Vegan\n",
      "PRICE              15\n",
      "Name: 53, dtype: object\n",
      "CATEGORY      COLD DRINK\n",
      "ITEM        Orange Juice\n",
      "CALORIES             130\n",
      "TYPE               Vegan\n",
      "PRICE                 16\n",
      "Name: 60, dtype: object\n",
      "Fitness [1.0]\n"
     ]
    },
    {
     "data": {
      "image/png": "[encoded data removed]",
      "text/plain": [
       "<Figure size 432x288 with 1 Axes>"
      ]
     },
     "metadata": {
      "needs_background": "light"
     },
     "output_type": "display_data"
    }
   ],
   "source": [
    "#combination 1\n",
    "n = 10\n",
    "c = 0.99\n",
    "m = 0.01\n",
    "\n",
    "GA(n,c,m,itemtype,budget,calories)"
   ]
  },
  {
   "cell_type": "code",
   "execution_count": 13,
   "metadata": {},
   "outputs": [
    {
     "name": "stderr",
     "output_type": "stream",
     "text": [
      "C:\\Users\\HP\\Anaconda3\\lib\\site-packages\\ipykernel_launcher.py:15: FutureWarning: \n",
      ".ix is deprecated. Please use\n",
      ".loc for label based indexing or\n",
      ".iloc for positional indexing\n",
      "\n",
      "See the documentation here:\n",
      "http://pandas.pydata.org/pandas-docs/stable/user_guide/indexing.html#ix-indexer-is-deprecated\n",
      "  from ipykernel import kernelapp as app\n",
      "C:\\Users\\HP\\Anaconda3\\lib\\site-packages\\ipykernel_launcher.py:8: FutureWarning: \n",
      ".ix is deprecated. Please use\n",
      ".loc for label based indexing or\n",
      ".iloc for positional indexing\n",
      "\n",
      "See the documentation here:\n",
      "http://pandas.pydata.org/pandas-docs/stable/user_guide/indexing.html#ix-indexer-is-deprecated\n",
      "  \n",
      "C:\\Users\\HP\\Anaconda3\\lib\\site-packages\\ipykernel_launcher.py:17: FutureWarning: \n",
      ".ix is deprecated. Please use\n",
      ".loc for label based indexing or\n",
      ".iloc for positional indexing\n",
      "\n",
      "See the documentation here:\n",
      "http://pandas.pydata.org/pandas-docs/stable/user_guide/indexing.html#ix-indexer-is-deprecated\n",
      "C:\\Users\\HP\\Anaconda3\\lib\\site-packages\\ipykernel_launcher.py:13: FutureWarning: \n",
      ".ix is deprecated. Please use\n",
      ".loc for label based indexing or\n",
      ".iloc for positional indexing\n",
      "\n",
      "See the documentation here:\n",
      "http://pandas.pydata.org/pandas-docs/stable/user_guide/indexing.html#ix-indexer-is-deprecated\n",
      "  del sys.path[0]\n",
      "C:\\Users\\HP\\Anaconda3\\lib\\site-packages\\ipykernel_launcher.py:11: FutureWarning: \n",
      ".ix is deprecated. Please use\n",
      ".loc for label based indexing or\n",
      ".iloc for positional indexing\n",
      "\n",
      "See the documentation here:\n",
      "http://pandas.pydata.org/pandas-docs/stable/user_guide/indexing.html#ix-indexer-is-deprecated\n",
      "  # This is added back by InteractiveShellApp.init_path()\n",
      "C:\\Users\\HP\\Anaconda3\\lib\\site-packages\\ipykernel_launcher.py:19: FutureWarning: \n",
      ".ix is deprecated. Please use\n",
      ".loc for label based indexing or\n",
      ".iloc for positional indexing\n",
      "\n",
      "See the documentation here:\n",
      "http://pandas.pydata.org/pandas-docs/stable/user_guide/indexing.html#ix-indexer-is-deprecated\n"
     ]
    },
    {
     "name": "stdout",
     "output_type": "stream",
     "text": [
      "The best meal is:\n",
      "CATEGORY     HOT DRINK\n",
      "ITEM        Cafe Latte\n",
      "CALORIES           190\n",
      "TYPE        Vegetarian\n",
      "PRICE               19\n",
      "Name: 51, dtype: object\n",
      "Fitness [1.0]\n"
     ]
    },
    {
     "data": {
      "image/png": "[encoded data removed]",
      "text/plain": [
       "<Figure size 432x288 with 1 Axes>"
      ]
     },
     "metadata": {
      "needs_background": "light"
     },
     "output_type": "display_data"
    }
   ],
   "source": [
    "#combination 2\n",
    "n = 10\n",
    "c = 0.99\n",
    "m = 0.02\n",
    "\n",
    "GA(n,c,m,itemtype,budget,calories)"
   ]
  },
  {
   "cell_type": "code",
   "execution_count": 39,
   "metadata": {
    "scrolled": false
   },
   "outputs": [
    {
     "name": "stderr",
     "output_type": "stream",
     "text": [
      "C:\\Users\\HP\\Anaconda3\\lib\\site-packages\\ipykernel_launcher.py:8: FutureWarning: \n",
      ".ix is deprecated. Please use\n",
      ".loc for label based indexing or\n",
      ".iloc for positional indexing\n",
      "\n",
      "See the documentation here:\n",
      "http://pandas.pydata.org/pandas-docs/stable/user_guide/indexing.html#ix-indexer-is-deprecated\n",
      "  \n",
      "C:\\Users\\HP\\Anaconda3\\lib\\site-packages\\ipykernel_launcher.py:13: FutureWarning: \n",
      ".ix is deprecated. Please use\n",
      ".loc for label based indexing or\n",
      ".iloc for positional indexing\n",
      "\n",
      "See the documentation here:\n",
      "http://pandas.pydata.org/pandas-docs/stable/user_guide/indexing.html#ix-indexer-is-deprecated\n",
      "  del sys.path[0]\n",
      "C:\\Users\\HP\\Anaconda3\\lib\\site-packages\\ipykernel_launcher.py:15: FutureWarning: \n",
      ".ix is deprecated. Please use\n",
      ".loc for label based indexing or\n",
      ".iloc for positional indexing\n",
      "\n",
      "See the documentation here:\n",
      "http://pandas.pydata.org/pandas-docs/stable/user_guide/indexing.html#ix-indexer-is-deprecated\n",
      "  from ipykernel import kernelapp as app\n",
      "C:\\Users\\HP\\Anaconda3\\lib\\site-packages\\ipykernel_launcher.py:11: FutureWarning: \n",
      ".ix is deprecated. Please use\n",
      ".loc for label based indexing or\n",
      ".iloc for positional indexing\n",
      "\n",
      "See the documentation here:\n",
      "http://pandas.pydata.org/pandas-docs/stable/user_guide/indexing.html#ix-indexer-is-deprecated\n",
      "  # This is added back by InteractiveShellApp.init_path()\n",
      "C:\\Users\\HP\\Anaconda3\\lib\\site-packages\\ipykernel_launcher.py:17: FutureWarning: \n",
      ".ix is deprecated. Please use\n",
      ".loc for label based indexing or\n",
      ".iloc for positional indexing\n",
      "\n",
      "See the documentation here:\n",
      "http://pandas.pydata.org/pandas-docs/stable/user_guide/indexing.html#ix-indexer-is-deprecated\n",
      "C:\\Users\\HP\\Anaconda3\\lib\\site-packages\\ipykernel_launcher.py:19: FutureWarning: \n",
      ".ix is deprecated. Please use\n",
      ".loc for label based indexing or\n",
      ".iloc for positional indexing\n",
      "\n",
      "See the documentation here:\n",
      "http://pandas.pydata.org/pandas-docs/stable/user_guide/indexing.html#ix-indexer-is-deprecated\n"
     ]
    },
    {
     "name": "stdout",
     "output_type": "stream",
     "text": [
      "The best meal is:\n",
      "CATEGORY          COLD DRINK\n",
      "ITEM        Blueberry Mojito\n",
      "CALORIES                 136\n",
      "TYPE                   Vegan\n",
      "PRICE                     30\n",
      "Name: 67, dtype: object\n",
      "Fitness [1.0]\n"
     ]
    },
    {
     "data": {
      "image/png": "[encoded data removed]",
      "text/plain": [
       "<Figure size 432x288 with 1 Axes>"
      ]
     },
     "metadata": {
      "needs_background": "light"
     },
     "output_type": "display_data"
    }
   ],
   "source": [
    "#combination 3\n",
    "n = 10\n",
    "c = 0.99\n",
    "m = 0.03\n",
    "\n",
    "GA(n,c,m,itemtype,budget,calories)"
   ]
  },
  {
   "cell_type": "code",
   "execution_count": 15,
   "metadata": {},
   "outputs": [
    {
     "name": "stderr",
     "output_type": "stream",
     "text": [
      "C:\\Users\\HP\\Anaconda3\\lib\\site-packages\\ipykernel_launcher.py:8: FutureWarning: \n",
      ".ix is deprecated. Please use\n",
      ".loc for label based indexing or\n",
      ".iloc for positional indexing\n",
      "\n",
      "See the documentation here:\n",
      "http://pandas.pydata.org/pandas-docs/stable/user_guide/indexing.html#ix-indexer-is-deprecated\n",
      "  \n",
      "C:\\Users\\HP\\Anaconda3\\lib\\site-packages\\ipykernel_launcher.py:11: FutureWarning: \n",
      ".ix is deprecated. Please use\n",
      ".loc for label based indexing or\n",
      ".iloc for positional indexing\n",
      "\n",
      "See the documentation here:\n",
      "http://pandas.pydata.org/pandas-docs/stable/user_guide/indexing.html#ix-indexer-is-deprecated\n",
      "  # This is added back by InteractiveShellApp.init_path()\n",
      "C:\\Users\\HP\\Anaconda3\\lib\\site-packages\\ipykernel_launcher.py:17: FutureWarning: \n",
      ".ix is deprecated. Please use\n",
      ".loc for label based indexing or\n",
      ".iloc for positional indexing\n",
      "\n",
      "See the documentation here:\n",
      "http://pandas.pydata.org/pandas-docs/stable/user_guide/indexing.html#ix-indexer-is-deprecated\n",
      "C:\\Users\\HP\\Anaconda3\\lib\\site-packages\\ipykernel_launcher.py:19: FutureWarning: \n",
      ".ix is deprecated. Please use\n",
      ".loc for label based indexing or\n",
      ".iloc for positional indexing\n",
      "\n",
      "See the documentation here:\n",
      "http://pandas.pydata.org/pandas-docs/stable/user_guide/indexing.html#ix-indexer-is-deprecated\n",
      "C:\\Users\\HP\\Anaconda3\\lib\\site-packages\\ipykernel_launcher.py:13: FutureWarning: \n",
      ".ix is deprecated. Please use\n",
      ".loc for label based indexing or\n",
      ".iloc for positional indexing\n",
      "\n",
      "See the documentation here:\n",
      "http://pandas.pydata.org/pandas-docs/stable/user_guide/indexing.html#ix-indexer-is-deprecated\n",
      "  del sys.path[0]\n",
      "C:\\Users\\HP\\Anaconda3\\lib\\site-packages\\ipykernel_launcher.py:15: FutureWarning: \n",
      ".ix is deprecated. Please use\n",
      ".loc for label based indexing or\n",
      ".iloc for positional indexing\n",
      "\n",
      "See the documentation here:\n",
      "http://pandas.pydata.org/pandas-docs/stable/user_guide/indexing.html#ix-indexer-is-deprecated\n",
      "  from ipykernel import kernelapp as app\n"
     ]
    },
    {
     "name": "stdout",
     "output_type": "stream",
     "text": [
      "The best meal is:\n",
      "CATEGORY    HOT DRINK\n",
      "ITEM        Black tea\n",
      "CALORIES            0\n",
      "TYPE            Vegan\n",
      "PRICE              15\n",
      "Name: 53, dtype: object\n",
      "Fitness [1.0]\n"
     ]
    },
    {
     "data": {
      "image/png": "[encoded data removed]",
      "text/plain": [
       "<Figure size 432x288 with 1 Axes>"
      ]
     },
     "metadata": {
      "needs_background": "light"
     },
     "output_type": "display_data"
    }
   ],
   "source": [
    "#combination 4\n",
    "n = 10\n",
    "c = 0.98\n",
    "m = 0.01\n",
    "\n",
    "GA(n,c,m,itemtype,budget,calories)"
   ]
  },
  {
   "cell_type": "code",
   "execution_count": 16,
   "metadata": {},
   "outputs": [
    {
     "name": "stderr",
     "output_type": "stream",
     "text": [
      "C:\\Users\\HP\\Anaconda3\\lib\\site-packages\\ipykernel_launcher.py:8: FutureWarning: \n",
      ".ix is deprecated. Please use\n",
      ".loc for label based indexing or\n",
      ".iloc for positional indexing\n",
      "\n",
      "See the documentation here:\n",
      "http://pandas.pydata.org/pandas-docs/stable/user_guide/indexing.html#ix-indexer-is-deprecated\n",
      "  \n",
      "C:\\Users\\HP\\Anaconda3\\lib\\site-packages\\ipykernel_launcher.py:11: FutureWarning: \n",
      ".ix is deprecated. Please use\n",
      ".loc for label based indexing or\n",
      ".iloc for positional indexing\n",
      "\n",
      "See the documentation here:\n",
      "http://pandas.pydata.org/pandas-docs/stable/user_guide/indexing.html#ix-indexer-is-deprecated\n",
      "  # This is added back by InteractiveShellApp.init_path()\n",
      "C:\\Users\\HP\\Anaconda3\\lib\\site-packages\\ipykernel_launcher.py:15: FutureWarning: \n",
      ".ix is deprecated. Please use\n",
      ".loc for label based indexing or\n",
      ".iloc for positional indexing\n",
      "\n",
      "See the documentation here:\n",
      "http://pandas.pydata.org/pandas-docs/stable/user_guide/indexing.html#ix-indexer-is-deprecated\n",
      "  from ipykernel import kernelapp as app\n",
      "C:\\Users\\HP\\Anaconda3\\lib\\site-packages\\ipykernel_launcher.py:19: FutureWarning: \n",
      ".ix is deprecated. Please use\n",
      ".loc for label based indexing or\n",
      ".iloc for positional indexing\n",
      "\n",
      "See the documentation here:\n",
      "http://pandas.pydata.org/pandas-docs/stable/user_guide/indexing.html#ix-indexer-is-deprecated\n"
     ]
    },
    {
     "name": "stdout",
     "output_type": "stream",
     "text": [
      "The best meal is:\n",
      "CATEGORY           STARTER\n",
      "ITEM        Baked eggplant\n",
      "CALORIES               270\n",
      "TYPE                 Vegan\n",
      "PRICE                   36\n",
      "Name: 2, dtype: object\n",
      "Fitness [1.0]\n"
     ]
    },
    {
     "data": {
      "image/png": "[encoded data removed]",
      "text/plain": [
       "<Figure size 432x288 with 1 Axes>"
      ]
     },
     "metadata": {
      "needs_background": "light"
     },
     "output_type": "display_data"
    }
   ],
   "source": [
    "#combination 5\n",
    "n = 10\n",
    "c = 0.98\n",
    "m = 0.02\n",
    "\n",
    "GA(n,c,m,itemtype,budget,calories)"
   ]
  },
  {
   "cell_type": "code",
   "execution_count": 17,
   "metadata": {},
   "outputs": [
    {
     "name": "stderr",
     "output_type": "stream",
     "text": [
      "C:\\Users\\HP\\Anaconda3\\lib\\site-packages\\ipykernel_launcher.py:15: FutureWarning: \n",
      ".ix is deprecated. Please use\n",
      ".loc for label based indexing or\n",
      ".iloc for positional indexing\n",
      "\n",
      "See the documentation here:\n",
      "http://pandas.pydata.org/pandas-docs/stable/user_guide/indexing.html#ix-indexer-is-deprecated\n",
      "  from ipykernel import kernelapp as app\n",
      "C:\\Users\\HP\\Anaconda3\\lib\\site-packages\\ipykernel_launcher.py:8: FutureWarning: \n",
      ".ix is deprecated. Please use\n",
      ".loc for label based indexing or\n",
      ".iloc for positional indexing\n",
      "\n",
      "See the documentation here:\n",
      "http://pandas.pydata.org/pandas-docs/stable/user_guide/indexing.html#ix-indexer-is-deprecated\n",
      "  \n",
      "C:\\Users\\HP\\Anaconda3\\lib\\site-packages\\ipykernel_launcher.py:19: FutureWarning: \n",
      ".ix is deprecated. Please use\n",
      ".loc for label based indexing or\n",
      ".iloc for positional indexing\n",
      "\n",
      "See the documentation here:\n",
      "http://pandas.pydata.org/pandas-docs/stable/user_guide/indexing.html#ix-indexer-is-deprecated\n"
     ]
    },
    {
     "name": "stdout",
     "output_type": "stream",
     "text": [
      "The best meal is:\n",
      "CATEGORY                    DESSERT\n",
      "ITEM        Assorted fruits platter\n",
      "CALORIES                        238\n",
      "TYPE                          Vegan\n",
      "PRICE                            22\n",
      "Name: 40, dtype: object\n",
      "CATEGORY    HOT DRINK\n",
      "ITEM        Americano\n",
      "CALORIES           15\n",
      "TYPE            Vegan\n",
      "PRICE              18\n",
      "Name: 48, dtype: object\n",
      "CATEGORY     COLD DRINK\n",
      "ITEM        Large Water\n",
      "CALORIES              0\n",
      "TYPE              Vegan\n",
      "PRICE                10\n",
      "Name: 64, dtype: object\n",
      "Fitness [1.0]\n"
     ]
    },
    {
     "data": {
      "image/png": "[encoded data removed]",
      "text/plain": [
       "<Figure size 432x288 with 1 Axes>"
      ]
     },
     "metadata": {
      "needs_background": "light"
     },
     "output_type": "display_data"
    }
   ],
   "source": [
    "#combination 6\n",
    "n = 10\n",
    "c = 0.98\n",
    "m = 0.03\n",
    "\n",
    "GA(n,c,m,itemtype,budget,calories)"
   ]
  },
  {
   "cell_type": "code",
   "execution_count": 18,
   "metadata": {},
   "outputs": [
    {
     "name": "stderr",
     "output_type": "stream",
     "text": [
      "C:\\Users\\HP\\Anaconda3\\lib\\site-packages\\ipykernel_launcher.py:8: FutureWarning: \n",
      ".ix is deprecated. Please use\n",
      ".loc for label based indexing or\n",
      ".iloc for positional indexing\n",
      "\n",
      "See the documentation here:\n",
      "http://pandas.pydata.org/pandas-docs/stable/user_guide/indexing.html#ix-indexer-is-deprecated\n",
      "  \n",
      "C:\\Users\\HP\\Anaconda3\\lib\\site-packages\\ipykernel_launcher.py:15: FutureWarning: \n",
      ".ix is deprecated. Please use\n",
      ".loc for label based indexing or\n",
      ".iloc for positional indexing\n",
      "\n",
      "See the documentation here:\n",
      "http://pandas.pydata.org/pandas-docs/stable/user_guide/indexing.html#ix-indexer-is-deprecated\n",
      "  from ipykernel import kernelapp as app\n",
      "C:\\Users\\HP\\Anaconda3\\lib\\site-packages\\ipykernel_launcher.py:17: FutureWarning: \n",
      ".ix is deprecated. Please use\n",
      ".loc for label based indexing or\n",
      ".iloc for positional indexing\n",
      "\n",
      "See the documentation here:\n",
      "http://pandas.pydata.org/pandas-docs/stable/user_guide/indexing.html#ix-indexer-is-deprecated\n"
     ]
    },
    {
     "name": "stdout",
     "output_type": "stream",
     "text": [
      "The best meal is:\n",
      "CATEGORY         STARTER\n",
      "ITEM        Quinoa salad\n",
      "CALORIES             320\n",
      "TYPE               Vegan\n",
      "PRICE                 36\n",
      "Name: 8, dtype: object\n",
      "CATEGORY    COLD DRINK\n",
      "ITEM           Mirinda\n",
      "CALORIES            90\n",
      "TYPE             Vegan\n",
      "PRICE               10\n",
      "Name: 59, dtype: object\n",
      "Fitness [1.0]\n"
     ]
    },
    {
     "data": {
      "image/png": "[encoded data removed]",
      "text/plain": [
       "<Figure size 432x288 with 1 Axes>"
      ]
     },
     "metadata": {
      "needs_background": "light"
     },
     "output_type": "display_data"
    }
   ],
   "source": [
    "#combination 7\n",
    "n = 10\n",
    "c = 0.97\n",
    "m = 0.01\n",
    "\n",
    "GA(n,c,m,itemtype,budget,calories)"
   ]
  },
  {
   "cell_type": "code",
   "execution_count": 19,
   "metadata": {},
   "outputs": [
    {
     "name": "stderr",
     "output_type": "stream",
     "text": [
      "C:\\Users\\HP\\Anaconda3\\lib\\site-packages\\ipykernel_launcher.py:19: FutureWarning: \n",
      ".ix is deprecated. Please use\n",
      ".loc for label based indexing or\n",
      ".iloc for positional indexing\n",
      "\n",
      "See the documentation here:\n",
      "http://pandas.pydata.org/pandas-docs/stable/user_guide/indexing.html#ix-indexer-is-deprecated\n",
      "C:\\Users\\HP\\Anaconda3\\lib\\site-packages\\ipykernel_launcher.py:8: FutureWarning: \n",
      ".ix is deprecated. Please use\n",
      ".loc for label based indexing or\n",
      ".iloc for positional indexing\n",
      "\n",
      "See the documentation here:\n",
      "http://pandas.pydata.org/pandas-docs/stable/user_guide/indexing.html#ix-indexer-is-deprecated\n",
      "  \n"
     ]
    },
    {
     "name": "stdout",
     "output_type": "stream",
     "text": [
      "The best meal is:\n",
      "CATEGORY       STARTER\n",
      "ITEM        Kale salad\n",
      "CALORIES           280\n",
      "TYPE             Vegan\n",
      "PRICE               38\n",
      "Name: 7, dtype: object\n",
      "CATEGORY    HOT DRINK\n",
      "ITEM        Black tea\n",
      "CALORIES            0\n",
      "TYPE            Vegan\n",
      "PRICE              15\n",
      "Name: 53, dtype: object\n",
      "CATEGORY              COLD DRINK\n",
      "ITEM        Strawberry milkshake\n",
      "CALORIES                     210\n",
      "TYPE                  Vegetarian\n",
      "PRICE                         20\n",
      "Name: 61, dtype: object\n",
      "Fitness [1.0]\n"
     ]
    },
    {
     "data": {
      "image/png": "[encoded data removed]",
      "text/plain": [
       "<Figure size 432x288 with 1 Axes>"
      ]
     },
     "metadata": {
      "needs_background": "light"
     },
     "output_type": "display_data"
    }
   ],
   "source": [
    "#combination 8\n",
    "n = 10\n",
    "c = 0.97\n",
    "m = 0.02\n",
    "\n",
    "GA(n,c,m,itemtype,budget,calories)"
   ]
  },
  {
   "cell_type": "code",
   "execution_count": 20,
   "metadata": {},
   "outputs": [
    {
     "name": "stderr",
     "output_type": "stream",
     "text": [
      "C:\\Users\\HP\\Anaconda3\\lib\\site-packages\\ipykernel_launcher.py:8: FutureWarning: \n",
      ".ix is deprecated. Please use\n",
      ".loc for label based indexing or\n",
      ".iloc for positional indexing\n",
      "\n",
      "See the documentation here:\n",
      "http://pandas.pydata.org/pandas-docs/stable/user_guide/indexing.html#ix-indexer-is-deprecated\n",
      "  \n",
      "C:\\Users\\HP\\Anaconda3\\lib\\site-packages\\ipykernel_launcher.py:19: FutureWarning: \n",
      ".ix is deprecated. Please use\n",
      ".loc for label based indexing or\n",
      ".iloc for positional indexing\n",
      "\n",
      "See the documentation here:\n",
      "http://pandas.pydata.org/pandas-docs/stable/user_guide/indexing.html#ix-indexer-is-deprecated\n",
      "C:\\Users\\HP\\Anaconda3\\lib\\site-packages\\ipykernel_launcher.py:17: FutureWarning: \n",
      ".ix is deprecated. Please use\n",
      ".loc for label based indexing or\n",
      ".iloc for positional indexing\n",
      "\n",
      "See the documentation here:\n",
      "http://pandas.pydata.org/pandas-docs/stable/user_guide/indexing.html#ix-indexer-is-deprecated\n",
      "C:\\Users\\HP\\Anaconda3\\lib\\site-packages\\ipykernel_launcher.py:15: FutureWarning: \n",
      ".ix is deprecated. Please use\n",
      ".loc for label based indexing or\n",
      ".iloc for positional indexing\n",
      "\n",
      "See the documentation here:\n",
      "http://pandas.pydata.org/pandas-docs/stable/user_guide/indexing.html#ix-indexer-is-deprecated\n",
      "  from ipykernel import kernelapp as app\n"
     ]
    },
    {
     "name": "stdout",
     "output_type": "stream",
     "text": [
      "The best meal is:\n",
      "CATEGORY       STARTER\n",
      "ITEM        Kale salad\n",
      "CALORIES           280\n",
      "TYPE             Vegan\n",
      "PRICE               38\n",
      "Name: 7, dtype: object\n",
      "CATEGORY    HOT DRINK\n",
      "ITEM         Espresso\n",
      "CALORIES            9\n",
      "TYPE            Vegan\n",
      "PRICE              13\n",
      "Name: 49, dtype: object\n",
      "CATEGORY    COLD DRINK\n",
      "ITEM           Mirinda\n",
      "CALORIES            90\n",
      "TYPE             Vegan\n",
      "PRICE               10\n",
      "Name: 59, dtype: object\n",
      "Fitness [1.0]\n"
     ]
    },
    {
     "data": {
      "image/png": "[encoded data removed]",
      "text/plain": [
       "<Figure size 432x288 with 1 Axes>"
      ]
     },
     "metadata": {
      "needs_background": "light"
     },
     "output_type": "display_data"
    }
   ],
   "source": [
    "#combination 9\n",
    "n = 10\n",
    "c = 0.97\n",
    "m = 0.03\n",
    "\n",
    "GA(n,c,m,itemtype,budget,calories)"
   ]
  },
  {
   "cell_type": "code",
   "execution_count": 40,
   "metadata": {},
   "outputs": [
    {
     "name": "stderr",
     "output_type": "stream",
     "text": [
      "C:\\Users\\HP\\Anaconda3\\lib\\site-packages\\ipykernel_launcher.py:8: FutureWarning: \n",
      ".ix is deprecated. Please use\n",
      ".loc for label based indexing or\n",
      ".iloc for positional indexing\n",
      "\n",
      "See the documentation here:\n",
      "http://pandas.pydata.org/pandas-docs/stable/user_guide/indexing.html#ix-indexer-is-deprecated\n",
      "  \n",
      "C:\\Users\\HP\\Anaconda3\\lib\\site-packages\\ipykernel_launcher.py:19: FutureWarning: \n",
      ".ix is deprecated. Please use\n",
      ".loc for label based indexing or\n",
      ".iloc for positional indexing\n",
      "\n",
      "See the documentation here:\n",
      "http://pandas.pydata.org/pandas-docs/stable/user_guide/indexing.html#ix-indexer-is-deprecated\n",
      "C:\\Users\\HP\\Anaconda3\\lib\\site-packages\\ipykernel_launcher.py:13: FutureWarning: \n",
      ".ix is deprecated. Please use\n",
      ".loc for label based indexing or\n",
      ".iloc for positional indexing\n",
      "\n",
      "See the documentation here:\n",
      "http://pandas.pydata.org/pandas-docs/stable/user_guide/indexing.html#ix-indexer-is-deprecated\n",
      "  del sys.path[0]\n",
      "C:\\Users\\HP\\Anaconda3\\lib\\site-packages\\ipykernel_launcher.py:17: FutureWarning: \n",
      ".ix is deprecated. Please use\n",
      ".loc for label based indexing or\n",
      ".iloc for positional indexing\n",
      "\n",
      "See the documentation here:\n",
      "http://pandas.pydata.org/pandas-docs/stable/user_guide/indexing.html#ix-indexer-is-deprecated\n"
     ]
    },
    {
     "name": "stdout",
     "output_type": "stream",
     "text": [
      "The best meal is:\n",
      "CATEGORY       STARTER\n",
      "ITEM        Kale salad\n",
      "CALORIES           280\n",
      "TYPE             Vegan\n",
      "PRICE               38\n",
      "Name: 7, dtype: object\n",
      "CATEGORY     HOT DRINK\n",
      "ITEM        Cappuccino\n",
      "CALORIES           120\n",
      "TYPE        Vegetarian\n",
      "PRICE               19\n",
      "Name: 50, dtype: object\n",
      "CATEGORY    COLD DRINK\n",
      "ITEM        Diet Pepsi\n",
      "CALORIES             0\n",
      "TYPE             Vegan\n",
      "PRICE               10\n",
      "Name: 57, dtype: object\n",
      "Fitness [1.0]\n"
     ]
    },
    {
     "data": {
      "image/png": "[encoded data removed]",
      "text/plain": [
       "<Figure size 432x288 with 1 Axes>"
      ]
     },
     "metadata": {
      "needs_background": "light"
     },
     "output_type": "display_data"
    }
   ],
   "source": [
    "#combination 10\n",
    "n = 40\n",
    "c = 0.99\n",
    "m = 0.01\n",
    "\n",
    "GA(n,c,m,itemtype,budget,calories)"
   ]
  },
  {
   "cell_type": "code",
   "execution_count": 22,
   "metadata": {},
   "outputs": [
    {
     "name": "stderr",
     "output_type": "stream",
     "text": [
      "C:\\Users\\HP\\Anaconda3\\lib\\site-packages\\ipykernel_launcher.py:17: FutureWarning: \n",
      ".ix is deprecated. Please use\n",
      ".loc for label based indexing or\n",
      ".iloc for positional indexing\n",
      "\n",
      "See the documentation here:\n",
      "http://pandas.pydata.org/pandas-docs/stable/user_guide/indexing.html#ix-indexer-is-deprecated\n",
      "C:\\Users\\HP\\Anaconda3\\lib\\site-packages\\ipykernel_launcher.py:8: FutureWarning: \n",
      ".ix is deprecated. Please use\n",
      ".loc for label based indexing or\n",
      ".iloc for positional indexing\n",
      "\n",
      "See the documentation here:\n",
      "http://pandas.pydata.org/pandas-docs/stable/user_guide/indexing.html#ix-indexer-is-deprecated\n",
      "  \n",
      "C:\\Users\\HP\\Anaconda3\\lib\\site-packages\\ipykernel_launcher.py:15: FutureWarning: \n",
      ".ix is deprecated. Please use\n",
      ".loc for label based indexing or\n",
      ".iloc for positional indexing\n",
      "\n",
      "See the documentation here:\n",
      "http://pandas.pydata.org/pandas-docs/stable/user_guide/indexing.html#ix-indexer-is-deprecated\n",
      "  from ipykernel import kernelapp as app\n",
      "C:\\Users\\HP\\Anaconda3\\lib\\site-packages\\ipykernel_launcher.py:13: FutureWarning: \n",
      ".ix is deprecated. Please use\n",
      ".loc for label based indexing or\n",
      ".iloc for positional indexing\n",
      "\n",
      "See the documentation here:\n",
      "http://pandas.pydata.org/pandas-docs/stable/user_guide/indexing.html#ix-indexer-is-deprecated\n",
      "  del sys.path[0]\n",
      "C:\\Users\\HP\\Anaconda3\\lib\\site-packages\\ipykernel_launcher.py:11: FutureWarning: \n",
      ".ix is deprecated. Please use\n",
      ".loc for label based indexing or\n",
      ".iloc for positional indexing\n",
      "\n",
      "See the documentation here:\n",
      "http://pandas.pydata.org/pandas-docs/stable/user_guide/indexing.html#ix-indexer-is-deprecated\n",
      "  # This is added back by InteractiveShellApp.init_path()\n"
     ]
    },
    {
     "name": "stdout",
     "output_type": "stream",
     "text": [
      "The best meal is:\n",
      "CATEGORY        HOT DRINK\n",
      "ITEM        Hot Chocolate\n",
      "CALORIES              350\n",
      "TYPE           Vegetarian\n",
      "PRICE                  21\n",
      "Name: 55, dtype: object\n",
      "Fitness [1.0]\n"
     ]
    },
    {
     "data": {
      "image/png": "[encoded data removed]",
      "text/plain": [
       "<Figure size 432x288 with 1 Axes>"
      ]
     },
     "metadata": {
      "needs_background": "light"
     },
     "output_type": "display_data"
    }
   ],
   "source": [
    "#combination 11\n",
    "n = 40\n",
    "c = 0.99\n",
    "m = 0.02\n",
    "\n",
    "GA(n,c,m,itemtype,budget,calories)"
   ]
  },
  {
   "cell_type": "code",
   "execution_count": 23,
   "metadata": {
    "scrolled": false
   },
   "outputs": [
    {
     "name": "stderr",
     "output_type": "stream",
     "text": [
      "C:\\Users\\HP\\Anaconda3\\lib\\site-packages\\ipykernel_launcher.py:15: FutureWarning: \n",
      ".ix is deprecated. Please use\n",
      ".loc for label based indexing or\n",
      ".iloc for positional indexing\n",
      "\n",
      "See the documentation here:\n",
      "http://pandas.pydata.org/pandas-docs/stable/user_guide/indexing.html#ix-indexer-is-deprecated\n",
      "  from ipykernel import kernelapp as app\n",
      "C:\\Users\\HP\\Anaconda3\\lib\\site-packages\\ipykernel_launcher.py:8: FutureWarning: \n",
      ".ix is deprecated. Please use\n",
      ".loc for label based indexing or\n",
      ".iloc for positional indexing\n",
      "\n",
      "See the documentation here:\n",
      "http://pandas.pydata.org/pandas-docs/stable/user_guide/indexing.html#ix-indexer-is-deprecated\n",
      "  \n",
      "C:\\Users\\HP\\Anaconda3\\lib\\site-packages\\ipykernel_launcher.py:17: FutureWarning: \n",
      ".ix is deprecated. Please use\n",
      ".loc for label based indexing or\n",
      ".iloc for positional indexing\n",
      "\n",
      "See the documentation here:\n",
      "http://pandas.pydata.org/pandas-docs/stable/user_guide/indexing.html#ix-indexer-is-deprecated\n",
      "C:\\Users\\HP\\Anaconda3\\lib\\site-packages\\ipykernel_launcher.py:13: FutureWarning: \n",
      ".ix is deprecated. Please use\n",
      ".loc for label based indexing or\n",
      ".iloc for positional indexing\n",
      "\n",
      "See the documentation here:\n",
      "http://pandas.pydata.org/pandas-docs/stable/user_guide/indexing.html#ix-indexer-is-deprecated\n",
      "  del sys.path[0]\n",
      "C:\\Users\\HP\\Anaconda3\\lib\\site-packages\\ipykernel_launcher.py:19: FutureWarning: \n",
      ".ix is deprecated. Please use\n",
      ".loc for label based indexing or\n",
      ".iloc for positional indexing\n",
      "\n",
      "See the documentation here:\n",
      "http://pandas.pydata.org/pandas-docs/stable/user_guide/indexing.html#ix-indexer-is-deprecated\n"
     ]
    },
    {
     "name": "stdout",
     "output_type": "stream",
     "text": [
      "The best meal is:\n",
      "CATEGORY        STARTER\n",
      "ITEM        Lentil soup\n",
      "CALORIES            290\n",
      "TYPE              Vegan\n",
      "PRICE                26\n",
      "Name: 4, dtype: object\n",
      "CATEGORY    HOT DRINK\n",
      "ITEM         Espresso\n",
      "CALORIES            9\n",
      "TYPE            Vegan\n",
      "PRICE              13\n",
      "Name: 49, dtype: object\n",
      "CATEGORY    COLD DRINK\n",
      "ITEM        Diet Pepsi\n",
      "CALORIES             0\n",
      "TYPE             Vegan\n",
      "PRICE               10\n",
      "Name: 57, dtype: object\n",
      "Fitness [1.0]\n"
     ]
    },
    {
     "data": {
      "image/png": "[encoded data removed]",
      "text/plain": [
       "<Figure size 432x288 with 1 Axes>"
      ]
     },
     "metadata": {
      "needs_background": "light"
     },
     "output_type": "display_data"
    }
   ],
   "source": [
    "#combination 12\n",
    "n = 40\n",
    "c = 0.99\n",
    "m = 0.03\n",
    "\n",
    "GA(n,c,m,itemtype,budget,calories)"
   ]
  },
  {
   "cell_type": "code",
   "execution_count": 24,
   "metadata": {
    "scrolled": false
   },
   "outputs": [
    {
     "name": "stderr",
     "output_type": "stream",
     "text": [
      "C:\\Users\\HP\\Anaconda3\\lib\\site-packages\\ipykernel_launcher.py:13: FutureWarning: \n",
      ".ix is deprecated. Please use\n",
      ".loc for label based indexing or\n",
      ".iloc for positional indexing\n",
      "\n",
      "See the documentation here:\n",
      "http://pandas.pydata.org/pandas-docs/stable/user_guide/indexing.html#ix-indexer-is-deprecated\n",
      "  del sys.path[0]\n",
      "C:\\Users\\HP\\Anaconda3\\lib\\site-packages\\ipykernel_launcher.py:8: FutureWarning: \n",
      ".ix is deprecated. Please use\n",
      ".loc for label based indexing or\n",
      ".iloc for positional indexing\n",
      "\n",
      "See the documentation here:\n",
      "http://pandas.pydata.org/pandas-docs/stable/user_guide/indexing.html#ix-indexer-is-deprecated\n",
      "  \n",
      "C:\\Users\\HP\\Anaconda3\\lib\\site-packages\\ipykernel_launcher.py:19: FutureWarning: \n",
      ".ix is deprecated. Please use\n",
      ".loc for label based indexing or\n",
      ".iloc for positional indexing\n",
      "\n",
      "See the documentation here:\n",
      "http://pandas.pydata.org/pandas-docs/stable/user_guide/indexing.html#ix-indexer-is-deprecated\n",
      "C:\\Users\\HP\\Anaconda3\\lib\\site-packages\\ipykernel_launcher.py:17: FutureWarning: \n",
      ".ix is deprecated. Please use\n",
      ".loc for label based indexing or\n",
      ".iloc for positional indexing\n",
      "\n",
      "See the documentation here:\n",
      "http://pandas.pydata.org/pandas-docs/stable/user_guide/indexing.html#ix-indexer-is-deprecated\n",
      "C:\\Users\\HP\\Anaconda3\\lib\\site-packages\\ipykernel_launcher.py:11: FutureWarning: \n",
      ".ix is deprecated. Please use\n",
      ".loc for label based indexing or\n",
      ".iloc for positional indexing\n",
      "\n",
      "See the documentation here:\n",
      "http://pandas.pydata.org/pandas-docs/stable/user_guide/indexing.html#ix-indexer-is-deprecated\n",
      "  # This is added back by InteractiveShellApp.init_path()\n"
     ]
    },
    {
     "name": "stdout",
     "output_type": "stream",
     "text": [
      "The best meal is:\n",
      "CATEGORY         STARTER\n",
      "ITEM        Chicken soup\n",
      "CALORIES             280\n",
      "TYPE             Regular\n",
      "PRICE                 32\n",
      "Name: 5, dtype: object\n",
      "CATEGORY     HOT DRINK\n",
      "ITEM        Cafe Latte\n",
      "CALORIES           190\n",
      "TYPE        Vegetarian\n",
      "PRICE               19\n",
      "Name: 51, dtype: object\n",
      "Fitness [1.0]\n"
     ]
    },
    {
     "data": {
      "image/png": "[encoded data removed]",
      "text/plain": [
       "<Figure size 432x288 with 1 Axes>"
      ]
     },
     "metadata": {
      "needs_background": "light"
     },
     "output_type": "display_data"
    }
   ],
   "source": [
    "#combination 13\n",
    "n = 40\n",
    "c = 0.98\n",
    "m = 0.01\n",
    "\n",
    "GA(n,c,m,itemtype,budget,calories)"
   ]
  },
  {
   "cell_type": "code",
   "execution_count": 25,
   "metadata": {
    "scrolled": false
   },
   "outputs": [
    {
     "name": "stderr",
     "output_type": "stream",
     "text": [
      "C:\\Users\\HP\\Anaconda3\\lib\\site-packages\\ipykernel_launcher.py:15: FutureWarning: \n",
      ".ix is deprecated. Please use\n",
      ".loc for label based indexing or\n",
      ".iloc for positional indexing\n",
      "\n",
      "See the documentation here:\n",
      "http://pandas.pydata.org/pandas-docs/stable/user_guide/indexing.html#ix-indexer-is-deprecated\n",
      "  from ipykernel import kernelapp as app\n",
      "C:\\Users\\HP\\Anaconda3\\lib\\site-packages\\ipykernel_launcher.py:13: FutureWarning: \n",
      ".ix is deprecated. Please use\n",
      ".loc for label based indexing or\n",
      ".iloc for positional indexing\n",
      "\n",
      "See the documentation here:\n",
      "http://pandas.pydata.org/pandas-docs/stable/user_guide/indexing.html#ix-indexer-is-deprecated\n",
      "  del sys.path[0]\n",
      "C:\\Users\\HP\\Anaconda3\\lib\\site-packages\\ipykernel_launcher.py:8: FutureWarning: \n",
      ".ix is deprecated. Please use\n",
      ".loc for label based indexing or\n",
      ".iloc for positional indexing\n",
      "\n",
      "See the documentation here:\n",
      "http://pandas.pydata.org/pandas-docs/stable/user_guide/indexing.html#ix-indexer-is-deprecated\n",
      "  \n",
      "C:\\Users\\HP\\Anaconda3\\lib\\site-packages\\ipykernel_launcher.py:17: FutureWarning: \n",
      ".ix is deprecated. Please use\n",
      ".loc for label based indexing or\n",
      ".iloc for positional indexing\n",
      "\n",
      "See the documentation here:\n",
      "http://pandas.pydata.org/pandas-docs/stable/user_guide/indexing.html#ix-indexer-is-deprecated\n"
     ]
    },
    {
     "name": "stdout",
     "output_type": "stream",
     "text": [
      "The best meal is:\n",
      "CATEGORY                    DESSERT\n",
      "ITEM        Assorted fruits platter\n",
      "CALORIES                        238\n",
      "TYPE                          Vegan\n",
      "PRICE                            22\n",
      "Name: 40, dtype: object\n",
      "CATEGORY    HOT DRINK\n",
      "ITEM        Americano\n",
      "CALORIES           15\n",
      "TYPE            Vegan\n",
      "PRICE              18\n",
      "Name: 48, dtype: object\n",
      "Fitness [1.0]\n"
     ]
    },
    {
     "data": {
      "image/png": "[encoded data removed]",
      "text/plain": [
       "<Figure size 432x288 with 1 Axes>"
      ]
     },
     "metadata": {
      "needs_background": "light"
     },
     "output_type": "display_data"
    }
   ],
   "source": [
    "#combination 14\n",
    "n = 40\n",
    "c = 0.98\n",
    "m = 0.02\n",
    "\n",
    "GA(n,c,m,itemtype,budget,calories)"
   ]
  },
  {
   "cell_type": "code",
   "execution_count": 26,
   "metadata": {},
   "outputs": [
    {
     "name": "stderr",
     "output_type": "stream",
     "text": [
      "C:\\Users\\HP\\Anaconda3\\lib\\site-packages\\ipykernel_launcher.py:8: FutureWarning: \n",
      ".ix is deprecated. Please use\n",
      ".loc for label based indexing or\n",
      ".iloc for positional indexing\n",
      "\n",
      "See the documentation here:\n",
      "http://pandas.pydata.org/pandas-docs/stable/user_guide/indexing.html#ix-indexer-is-deprecated\n",
      "  \n",
      "C:\\Users\\HP\\Anaconda3\\lib\\site-packages\\ipykernel_launcher.py:17: FutureWarning: \n",
      ".ix is deprecated. Please use\n",
      ".loc for label based indexing or\n",
      ".iloc for positional indexing\n",
      "\n",
      "See the documentation here:\n",
      "http://pandas.pydata.org/pandas-docs/stable/user_guide/indexing.html#ix-indexer-is-deprecated\n",
      "C:\\Users\\HP\\Anaconda3\\lib\\site-packages\\ipykernel_launcher.py:13: FutureWarning: \n",
      ".ix is deprecated. Please use\n",
      ".loc for label based indexing or\n",
      ".iloc for positional indexing\n",
      "\n",
      "See the documentation here:\n",
      "http://pandas.pydata.org/pandas-docs/stable/user_guide/indexing.html#ix-indexer-is-deprecated\n",
      "  del sys.path[0]\n",
      "C:\\Users\\HP\\Anaconda3\\lib\\site-packages\\ipykernel_launcher.py:19: FutureWarning: \n",
      ".ix is deprecated. Please use\n",
      ".loc for label based indexing or\n",
      ".iloc for positional indexing\n",
      "\n",
      "See the documentation here:\n",
      "http://pandas.pydata.org/pandas-docs/stable/user_guide/indexing.html#ix-indexer-is-deprecated\n",
      "C:\\Users\\HP\\Anaconda3\\lib\\site-packages\\ipykernel_launcher.py:15: FutureWarning: \n",
      ".ix is deprecated. Please use\n",
      ".loc for label based indexing or\n",
      ".iloc for positional indexing\n",
      "\n",
      "See the documentation here:\n",
      "http://pandas.pydata.org/pandas-docs/stable/user_guide/indexing.html#ix-indexer-is-deprecated\n",
      "  from ipykernel import kernelapp as app\n"
     ]
    },
    {
     "name": "stdout",
     "output_type": "stream",
     "text": [
      "The best meal is:\n",
      "CATEGORY    HOT DRINK\n",
      "ITEM        Green tea\n",
      "CALORIES            0\n",
      "TYPE            Vegan\n",
      "PRICE              15\n",
      "Name: 54, dtype: object\n",
      "CATEGORY     COLD DRINK\n",
      "ITEM        Large Water\n",
      "CALORIES              0\n",
      "TYPE              Vegan\n",
      "PRICE                10\n",
      "Name: 64, dtype: object\n",
      "Fitness [1.0]\n"
     ]
    },
    {
     "data": {
      "image/png": "[encoded data removed]",
      "text/plain": [
       "<Figure size 432x288 with 1 Axes>"
      ]
     },
     "metadata": {
      "needs_background": "light"
     },
     "output_type": "display_data"
    }
   ],
   "source": [
    "#combination 15\n",
    "n = 40\n",
    "c = 0.98\n",
    "m = 0.03\n",
    "\n",
    "GA(n,c,m,itemtype,budget,calories)"
   ]
  },
  {
   "cell_type": "code",
   "execution_count": 27,
   "metadata": {},
   "outputs": [
    {
     "name": "stderr",
     "output_type": "stream",
     "text": [
      "C:\\Users\\HP\\Anaconda3\\lib\\site-packages\\ipykernel_launcher.py:11: FutureWarning: \n",
      ".ix is deprecated. Please use\n",
      ".loc for label based indexing or\n",
      ".iloc for positional indexing\n",
      "\n",
      "See the documentation here:\n",
      "http://pandas.pydata.org/pandas-docs/stable/user_guide/indexing.html#ix-indexer-is-deprecated\n",
      "  # This is added back by InteractiveShellApp.init_path()\n",
      "C:\\Users\\HP\\Anaconda3\\lib\\site-packages\\ipykernel_launcher.py:8: FutureWarning: \n",
      ".ix is deprecated. Please use\n",
      ".loc for label based indexing or\n",
      ".iloc for positional indexing\n",
      "\n",
      "See the documentation here:\n",
      "http://pandas.pydata.org/pandas-docs/stable/user_guide/indexing.html#ix-indexer-is-deprecated\n",
      "  \n",
      "C:\\Users\\HP\\Anaconda3\\lib\\site-packages\\ipykernel_launcher.py:15: FutureWarning: \n",
      ".ix is deprecated. Please use\n",
      ".loc for label based indexing or\n",
      ".iloc for positional indexing\n",
      "\n",
      "See the documentation here:\n",
      "http://pandas.pydata.org/pandas-docs/stable/user_guide/indexing.html#ix-indexer-is-deprecated\n",
      "  from ipykernel import kernelapp as app\n",
      "C:\\Users\\HP\\Anaconda3\\lib\\site-packages\\ipykernel_launcher.py:19: FutureWarning: \n",
      ".ix is deprecated. Please use\n",
      ".loc for label based indexing or\n",
      ".iloc for positional indexing\n",
      "\n",
      "See the documentation here:\n",
      "http://pandas.pydata.org/pandas-docs/stable/user_guide/indexing.html#ix-indexer-is-deprecated\n"
     ]
    },
    {
     "name": "stdout",
     "output_type": "stream",
     "text": [
      "The best meal is:\n",
      "CATEGORY                    DESSERT\n",
      "ITEM        Assorted fruits platter\n",
      "CALORIES                        238\n",
      "TYPE                          Vegan\n",
      "PRICE                            22\n",
      "Name: 40, dtype: object\n",
      "CATEGORY     HOT DRINK\n",
      "ITEM        Cappuccino\n",
      "CALORIES           120\n",
      "TYPE        Vegetarian\n",
      "PRICE               19\n",
      "Name: 50, dtype: object\n",
      "CATEGORY     COLD DRINK\n",
      "ITEM        Large Water\n",
      "CALORIES              0\n",
      "TYPE              Vegan\n",
      "PRICE                10\n",
      "Name: 64, dtype: object\n",
      "Fitness [1.0]\n"
     ]
    },
    {
     "data": {
      "image/png": "[encoded data removed]",
      "text/plain": [
       "<Figure size 432x288 with 1 Axes>"
      ]
     },
     "metadata": {
      "needs_background": "light"
     },
     "output_type": "display_data"
    }
   ],
   "source": [
    "#combination 16\n",
    "n = 40\n",
    "c = 0.97\n",
    "m = 0.01\n",
    "\n",
    "GA(n,c,m,itemtype,budget,calories)"
   ]
  },
  {
   "cell_type": "code",
   "execution_count": 28,
   "metadata": {},
   "outputs": [
    {
     "name": "stderr",
     "output_type": "stream",
     "text": [
      "C:\\Users\\HP\\Anaconda3\\lib\\site-packages\\ipykernel_launcher.py:8: FutureWarning: \n",
      ".ix is deprecated. Please use\n",
      ".loc for label based indexing or\n",
      ".iloc for positional indexing\n",
      "\n",
      "See the documentation here:\n",
      "http://pandas.pydata.org/pandas-docs/stable/user_guide/indexing.html#ix-indexer-is-deprecated\n",
      "  \n",
      "C:\\Users\\HP\\Anaconda3\\lib\\site-packages\\ipykernel_launcher.py:11: FutureWarning: \n",
      ".ix is deprecated. Please use\n",
      ".loc for label based indexing or\n",
      ".iloc for positional indexing\n",
      "\n",
      "See the documentation here:\n",
      "http://pandas.pydata.org/pandas-docs/stable/user_guide/indexing.html#ix-indexer-is-deprecated\n",
      "  # This is added back by InteractiveShellApp.init_path()\n",
      "C:\\Users\\HP\\Anaconda3\\lib\\site-packages\\ipykernel_launcher.py:13: FutureWarning: \n",
      ".ix is deprecated. Please use\n",
      ".loc for label based indexing or\n",
      ".iloc for positional indexing\n",
      "\n",
      "See the documentation here:\n",
      "http://pandas.pydata.org/pandas-docs/stable/user_guide/indexing.html#ix-indexer-is-deprecated\n",
      "  del sys.path[0]\n",
      "C:\\Users\\HP\\Anaconda3\\lib\\site-packages\\ipykernel_launcher.py:17: FutureWarning: \n",
      ".ix is deprecated. Please use\n",
      ".loc for label based indexing or\n",
      ".iloc for positional indexing\n",
      "\n",
      "See the documentation here:\n",
      "http://pandas.pydata.org/pandas-docs/stable/user_guide/indexing.html#ix-indexer-is-deprecated\n"
     ]
    },
    {
     "name": "stdout",
     "output_type": "stream",
     "text": [
      "The best meal is:\n",
      "CATEGORY    HOT DRINK\n",
      "ITEM        Black tea\n",
      "CALORIES            0\n",
      "TYPE            Vegan\n",
      "PRICE              15\n",
      "Name: 53, dtype: object\n",
      "CATEGORY    COLD DRINK\n",
      "ITEM             Pepsi\n",
      "CALORIES           120\n",
      "TYPE             Vegan\n",
      "PRICE               10\n",
      "Name: 56, dtype: object\n",
      "Fitness [1.0]\n"
     ]
    },
    {
     "data": {
      "image/png": "[encoded data removed]",
      "text/plain": [
       "<Figure size 432x288 with 1 Axes>"
      ]
     },
     "metadata": {
      "needs_background": "light"
     },
     "output_type": "display_data"
    }
   ],
   "source": [
    "#combination 17\n",
    "n = 40\n",
    "c = 0.97\n",
    "m = 0.02\n",
    "\n",
    "GA(n,c,m,itemtype,budget,calories)"
   ]
  },
  {
   "cell_type": "code",
   "execution_count": 29,
   "metadata": {},
   "outputs": [
    {
     "name": "stderr",
     "output_type": "stream",
     "text": [
      "C:\\Users\\HP\\Anaconda3\\lib\\site-packages\\ipykernel_launcher.py:8: FutureWarning: \n",
      ".ix is deprecated. Please use\n",
      ".loc for label based indexing or\n",
      ".iloc for positional indexing\n",
      "\n",
      "See the documentation here:\n",
      "http://pandas.pydata.org/pandas-docs/stable/user_guide/indexing.html#ix-indexer-is-deprecated\n",
      "  \n",
      "C:\\Users\\HP\\Anaconda3\\lib\\site-packages\\ipykernel_launcher.py:17: FutureWarning: \n",
      ".ix is deprecated. Please use\n",
      ".loc for label based indexing or\n",
      ".iloc for positional indexing\n",
      "\n",
      "See the documentation here:\n",
      "http://pandas.pydata.org/pandas-docs/stable/user_guide/indexing.html#ix-indexer-is-deprecated\n",
      "C:\\Users\\HP\\Anaconda3\\lib\\site-packages\\ipykernel_launcher.py:19: FutureWarning: \n",
      ".ix is deprecated. Please use\n",
      ".loc for label based indexing or\n",
      ".iloc for positional indexing\n",
      "\n",
      "See the documentation here:\n",
      "http://pandas.pydata.org/pandas-docs/stable/user_guide/indexing.html#ix-indexer-is-deprecated\n",
      "C:\\Users\\HP\\Anaconda3\\lib\\site-packages\\ipykernel_launcher.py:13: FutureWarning: \n",
      ".ix is deprecated. Please use\n",
      ".loc for label based indexing or\n",
      ".iloc for positional indexing\n",
      "\n",
      "See the documentation here:\n",
      "http://pandas.pydata.org/pandas-docs/stable/user_guide/indexing.html#ix-indexer-is-deprecated\n",
      "  del sys.path[0]\n"
     ]
    },
    {
     "name": "stdout",
     "output_type": "stream",
     "text": [
      "The best meal is:\n",
      "CATEGORY                    DESSERT\n",
      "ITEM        Assorted fruits platter\n",
      "CALORIES                        238\n",
      "TYPE                          Vegan\n",
      "PRICE                            22\n",
      "Name: 40, dtype: object\n",
      "CATEGORY    HOT DRINK\n",
      "ITEM        Green tea\n",
      "CALORIES            0\n",
      "TYPE            Vegan\n",
      "PRICE              15\n",
      "Name: 54, dtype: object\n",
      "CATEGORY    COLD DRINK\n",
      "ITEM        Diet Pepsi\n",
      "CALORIES             0\n",
      "TYPE             Vegan\n",
      "PRICE               10\n",
      "Name: 57, dtype: object\n",
      "Fitness [1.0]\n"
     ]
    },
    {
     "data": {
      "image/png": "[encoded data removed]",
      "text/plain": [
       "<Figure size 432x288 with 1 Axes>"
      ]
     },
     "metadata": {
      "needs_background": "light"
     },
     "output_type": "display_data"
    }
   ],
   "source": [
    "#combination 18\n",
    "n = 40\n",
    "c = 0.97\n",
    "m = 0.03\n",
    "\n",
    "GA(n,c,m,itemtype,budget,calories)"
   ]
  },
  {
   "cell_type": "code",
   "execution_count": 30,
   "metadata": {},
   "outputs": [
    {
     "name": "stderr",
     "output_type": "stream",
     "text": [
      "C:\\Users\\HP\\Anaconda3\\lib\\site-packages\\ipykernel_launcher.py:17: FutureWarning: \n",
      ".ix is deprecated. Please use\n",
      ".loc for label based indexing or\n",
      ".iloc for positional indexing\n",
      "\n",
      "See the documentation here:\n",
      "http://pandas.pydata.org/pandas-docs/stable/user_guide/indexing.html#ix-indexer-is-deprecated\n",
      "C:\\Users\\HP\\Anaconda3\\lib\\site-packages\\ipykernel_launcher.py:8: FutureWarning: \n",
      ".ix is deprecated. Please use\n",
      ".loc for label based indexing or\n",
      ".iloc for positional indexing\n",
      "\n",
      "See the documentation here:\n",
      "http://pandas.pydata.org/pandas-docs/stable/user_guide/indexing.html#ix-indexer-is-deprecated\n",
      "  \n",
      "C:\\Users\\HP\\Anaconda3\\lib\\site-packages\\ipykernel_launcher.py:11: FutureWarning: \n",
      ".ix is deprecated. Please use\n",
      ".loc for label based indexing or\n",
      ".iloc for positional indexing\n",
      "\n",
      "See the documentation here:\n",
      "http://pandas.pydata.org/pandas-docs/stable/user_guide/indexing.html#ix-indexer-is-deprecated\n",
      "  # This is added back by InteractiveShellApp.init_path()\n",
      "C:\\Users\\HP\\Anaconda3\\lib\\site-packages\\ipykernel_launcher.py:15: FutureWarning: \n",
      ".ix is deprecated. Please use\n",
      ".loc for label based indexing or\n",
      ".iloc for positional indexing\n",
      "\n",
      "See the documentation here:\n",
      "http://pandas.pydata.org/pandas-docs/stable/user_guide/indexing.html#ix-indexer-is-deprecated\n",
      "  from ipykernel import kernelapp as app\n",
      "C:\\Users\\HP\\Anaconda3\\lib\\site-packages\\ipykernel_launcher.py:19: FutureWarning: \n",
      ".ix is deprecated. Please use\n",
      ".loc for label based indexing or\n",
      ".iloc for positional indexing\n",
      "\n",
      "See the documentation here:\n",
      "http://pandas.pydata.org/pandas-docs/stable/user_guide/indexing.html#ix-indexer-is-deprecated\n",
      "C:\\Users\\HP\\Anaconda3\\lib\\site-packages\\ipykernel_launcher.py:13: FutureWarning: \n",
      ".ix is deprecated. Please use\n",
      ".loc for label based indexing or\n",
      ".iloc for positional indexing\n",
      "\n",
      "See the documentation here:\n",
      "http://pandas.pydata.org/pandas-docs/stable/user_guide/indexing.html#ix-indexer-is-deprecated\n",
      "  del sys.path[0]\n"
     ]
    },
    {
     "name": "stdout",
     "output_type": "stream",
     "text": [
      "The best meal is:\n",
      "CATEGORY    HOT DRINK\n",
      "ITEM        Black tea\n",
      "CALORIES            0\n",
      "TYPE            Vegan\n",
      "PRICE              15\n",
      "Name: 53, dtype: object\n",
      "CATEGORY     COLD DRINK\n",
      "ITEM        Large Water\n",
      "CALORIES              0\n",
      "TYPE              Vegan\n",
      "PRICE                10\n",
      "Name: 64, dtype: object\n",
      "Fitness [1.0]\n"
     ]
    },
    {
     "data": {
      "image/png": "[encoded data removed]",
      "text/plain": [
       "<Figure size 432x288 with 1 Axes>"
      ]
     },
     "metadata": {
      "needs_background": "light"
     },
     "output_type": "display_data"
    }
   ],
   "source": [
    "#combination 19\n",
    "n = 70\n",
    "c = 0.99\n",
    "m = 0.01\n",
    "\n",
    "GA(n,c,m,itemtype,budget,calories)"
   ]
  },
  {
   "cell_type": "code",
   "execution_count": 31,
   "metadata": {},
   "outputs": [
    {
     "name": "stderr",
     "output_type": "stream",
     "text": [
      "C:\\Users\\HP\\Anaconda3\\lib\\site-packages\\ipykernel_launcher.py:13: FutureWarning: \n",
      ".ix is deprecated. Please use\n",
      ".loc for label based indexing or\n",
      ".iloc for positional indexing\n",
      "\n",
      "See the documentation here:\n",
      "http://pandas.pydata.org/pandas-docs/stable/user_guide/indexing.html#ix-indexer-is-deprecated\n",
      "  del sys.path[0]\n",
      "C:\\Users\\HP\\Anaconda3\\lib\\site-packages\\ipykernel_launcher.py:11: FutureWarning: \n",
      ".ix is deprecated. Please use\n",
      ".loc for label based indexing or\n",
      ".iloc for positional indexing\n",
      "\n",
      "See the documentation here:\n",
      "http://pandas.pydata.org/pandas-docs/stable/user_guide/indexing.html#ix-indexer-is-deprecated\n",
      "  # This is added back by InteractiveShellApp.init_path()\n",
      "C:\\Users\\HP\\Anaconda3\\lib\\site-packages\\ipykernel_launcher.py:15: FutureWarning: \n",
      ".ix is deprecated. Please use\n",
      ".loc for label based indexing or\n",
      ".iloc for positional indexing\n",
      "\n",
      "See the documentation here:\n",
      "http://pandas.pydata.org/pandas-docs/stable/user_guide/indexing.html#ix-indexer-is-deprecated\n",
      "  from ipykernel import kernelapp as app\n",
      "C:\\Users\\HP\\Anaconda3\\lib\\site-packages\\ipykernel_launcher.py:8: FutureWarning: \n",
      ".ix is deprecated. Please use\n",
      ".loc for label based indexing or\n",
      ".iloc for positional indexing\n",
      "\n",
      "See the documentation here:\n",
      "http://pandas.pydata.org/pandas-docs/stable/user_guide/indexing.html#ix-indexer-is-deprecated\n",
      "  \n",
      "C:\\Users\\HP\\Anaconda3\\lib\\site-packages\\ipykernel_launcher.py:17: FutureWarning: \n",
      ".ix is deprecated. Please use\n",
      ".loc for label based indexing or\n",
      ".iloc for positional indexing\n",
      "\n",
      "See the documentation here:\n",
      "http://pandas.pydata.org/pandas-docs/stable/user_guide/indexing.html#ix-indexer-is-deprecated\n",
      "C:\\Users\\HP\\Anaconda3\\lib\\site-packages\\ipykernel_launcher.py:19: FutureWarning: \n",
      ".ix is deprecated. Please use\n",
      ".loc for label based indexing or\n",
      ".iloc for positional indexing\n",
      "\n",
      "See the documentation here:\n",
      "http://pandas.pydata.org/pandas-docs/stable/user_guide/indexing.html#ix-indexer-is-deprecated\n"
     ]
    },
    {
     "name": "stdout",
     "output_type": "stream",
     "text": [
      "The best meal is:\n",
      "CATEGORY    HOT DRINK\n",
      "ITEM        Americano\n",
      "CALORIES           15\n",
      "TYPE            Vegan\n",
      "PRICE              18\n",
      "Name: 48, dtype: object\n",
      "CATEGORY    COLD DRINK\n",
      "ITEM               7up\n",
      "CALORIES           120\n",
      "TYPE             Vegan\n",
      "PRICE               10\n",
      "Name: 58, dtype: object\n",
      "Fitness [1.0]\n"
     ]
    },
    {
     "data": {
      "image/png": "[encoded data removed]",
      "text/plain": [
       "<Figure size 432x288 with 1 Axes>"
      ]
     },
     "metadata": {
      "needs_background": "light"
     },
     "output_type": "display_data"
    }
   ],
   "source": [
    "#combination 20\n",
    "n = 70\n",
    "c = 0.99\n",
    "m = 0.02\n",
    "\n",
    "GA(n,c,m,itemtype,budget,calories)"
   ]
  },
  {
   "cell_type": "code",
   "execution_count": 32,
   "metadata": {},
   "outputs": [
    {
     "name": "stderr",
     "output_type": "stream",
     "text": [
      "C:\\Users\\HP\\Anaconda3\\lib\\site-packages\\ipykernel_launcher.py:17: FutureWarning: \n",
      ".ix is deprecated. Please use\n",
      ".loc for label based indexing or\n",
      ".iloc for positional indexing\n",
      "\n",
      "See the documentation here:\n",
      "http://pandas.pydata.org/pandas-docs/stable/user_guide/indexing.html#ix-indexer-is-deprecated\n",
      "C:\\Users\\HP\\Anaconda3\\lib\\site-packages\\ipykernel_launcher.py:8: FutureWarning: \n",
      ".ix is deprecated. Please use\n",
      ".loc for label based indexing or\n",
      ".iloc for positional indexing\n",
      "\n",
      "See the documentation here:\n",
      "http://pandas.pydata.org/pandas-docs/stable/user_guide/indexing.html#ix-indexer-is-deprecated\n",
      "  \n",
      "C:\\Users\\HP\\Anaconda3\\lib\\site-packages\\ipykernel_launcher.py:13: FutureWarning: \n",
      ".ix is deprecated. Please use\n",
      ".loc for label based indexing or\n",
      ".iloc for positional indexing\n",
      "\n",
      "See the documentation here:\n",
      "http://pandas.pydata.org/pandas-docs/stable/user_guide/indexing.html#ix-indexer-is-deprecated\n",
      "  del sys.path[0]\n",
      "C:\\Users\\HP\\Anaconda3\\lib\\site-packages\\ipykernel_launcher.py:19: FutureWarning: \n",
      ".ix is deprecated. Please use\n",
      ".loc for label based indexing or\n",
      ".iloc for positional indexing\n",
      "\n",
      "See the documentation here:\n",
      "http://pandas.pydata.org/pandas-docs/stable/user_guide/indexing.html#ix-indexer-is-deprecated\n",
      "C:\\Users\\HP\\Anaconda3\\lib\\site-packages\\ipykernel_launcher.py:11: FutureWarning: \n",
      ".ix is deprecated. Please use\n",
      ".loc for label based indexing or\n",
      ".iloc for positional indexing\n",
      "\n",
      "See the documentation here:\n",
      "http://pandas.pydata.org/pandas-docs/stable/user_guide/indexing.html#ix-indexer-is-deprecated\n",
      "  # This is added back by InteractiveShellApp.init_path()\n",
      "C:\\Users\\HP\\Anaconda3\\lib\\site-packages\\ipykernel_launcher.py:15: FutureWarning: \n",
      ".ix is deprecated. Please use\n",
      ".loc for label based indexing or\n",
      ".iloc for positional indexing\n",
      "\n",
      "See the documentation here:\n",
      "http://pandas.pydata.org/pandas-docs/stable/user_guide/indexing.html#ix-indexer-is-deprecated\n",
      "  from ipykernel import kernelapp as app\n"
     ]
    },
    {
     "name": "stdout",
     "output_type": "stream",
     "text": [
      "The best meal is:\n",
      "CATEGORY        DESSERT\n",
      "ITEM        Carrot Cake\n",
      "CALORIES            290\n",
      "TYPE         Vegetarian\n",
      "PRICE                26\n",
      "Name: 34, dtype: object\n",
      "CATEGORY    HOT DRINK\n",
      "ITEM         Espresso\n",
      "CALORIES            9\n",
      "TYPE            Vegan\n",
      "PRICE              13\n",
      "Name: 49, dtype: object\n",
      "CATEGORY    COLD DRINK\n",
      "ITEM               7up\n",
      "CALORIES           120\n",
      "TYPE             Vegan\n",
      "PRICE               10\n",
      "Name: 58, dtype: object\n",
      "Fitness [1.0]\n"
     ]
    },
    {
     "data": {
      "image/png": "[encoded data removed]",
      "text/plain": [
       "<Figure size 432x288 with 1 Axes>"
      ]
     },
     "metadata": {
      "needs_background": "light"
     },
     "output_type": "display_data"
    }
   ],
   "source": [
    "#combination 21\n",
    "n = 70\n",
    "c = 0.99\n",
    "m = 0.03\n",
    "\n",
    "GA(n,c,m,itemtype,budget,calories)"
   ]
  },
  {
   "cell_type": "code",
   "execution_count": 33,
   "metadata": {},
   "outputs": [
    {
     "name": "stderr",
     "output_type": "stream",
     "text": [
      "C:\\Users\\HP\\Anaconda3\\lib\\site-packages\\ipykernel_launcher.py:13: FutureWarning: \n",
      ".ix is deprecated. Please use\n",
      ".loc for label based indexing or\n",
      ".iloc for positional indexing\n",
      "\n",
      "See the documentation here:\n",
      "http://pandas.pydata.org/pandas-docs/stable/user_guide/indexing.html#ix-indexer-is-deprecated\n",
      "  del sys.path[0]\n",
      "C:\\Users\\HP\\Anaconda3\\lib\\site-packages\\ipykernel_launcher.py:8: FutureWarning: \n",
      ".ix is deprecated. Please use\n",
      ".loc for label based indexing or\n",
      ".iloc for positional indexing\n",
      "\n",
      "See the documentation here:\n",
      "http://pandas.pydata.org/pandas-docs/stable/user_guide/indexing.html#ix-indexer-is-deprecated\n",
      "  \n",
      "C:\\Users\\HP\\Anaconda3\\lib\\site-packages\\ipykernel_launcher.py:19: FutureWarning: \n",
      ".ix is deprecated. Please use\n",
      ".loc for label based indexing or\n",
      ".iloc for positional indexing\n",
      "\n",
      "See the documentation here:\n",
      "http://pandas.pydata.org/pandas-docs/stable/user_guide/indexing.html#ix-indexer-is-deprecated\n",
      "C:\\Users\\HP\\Anaconda3\\lib\\site-packages\\ipykernel_launcher.py:11: FutureWarning: \n",
      ".ix is deprecated. Please use\n",
      ".loc for label based indexing or\n",
      ".iloc for positional indexing\n",
      "\n",
      "See the documentation here:\n",
      "http://pandas.pydata.org/pandas-docs/stable/user_guide/indexing.html#ix-indexer-is-deprecated\n",
      "  # This is added back by InteractiveShellApp.init_path()\n",
      "C:\\Users\\HP\\Anaconda3\\lib\\site-packages\\ipykernel_launcher.py:15: FutureWarning: \n",
      ".ix is deprecated. Please use\n",
      ".loc for label based indexing or\n",
      ".iloc for positional indexing\n",
      "\n",
      "See the documentation here:\n",
      "http://pandas.pydata.org/pandas-docs/stable/user_guide/indexing.html#ix-indexer-is-deprecated\n",
      "  from ipykernel import kernelapp as app\n"
     ]
    },
    {
     "name": "stdout",
     "output_type": "stream",
     "text": [
      "The best meal is:\n",
      "CATEGORY         STARTER\n",
      "ITEM        Chicken soup\n",
      "CALORIES             280\n",
      "TYPE             Regular\n",
      "PRICE                 32\n",
      "Name: 5, dtype: object\n",
      "CATEGORY     COLD DRINK\n",
      "ITEM        Small Water\n",
      "CALORIES              0\n",
      "TYPE              Vegan\n",
      "PRICE                10\n",
      "Name: 65, dtype: object\n",
      "Fitness [1.0]\n"
     ]
    },
    {
     "data": {
      "image/png": "[encoded data removed]",
      "text/plain": [
       "<Figure size 432x288 with 1 Axes>"
      ]
     },
     "metadata": {
      "needs_background": "light"
     },
     "output_type": "display_data"
    }
   ],
   "source": [
    "#combination 22\n",
    "n = 70\n",
    "c = 0.98\n",
    "m = 0.01\n",
    "\n",
    "GA(n,c,m,itemtype,budget,calories)"
   ]
  },
  {
   "cell_type": "code",
   "execution_count": 34,
   "metadata": {},
   "outputs": [
    {
     "name": "stderr",
     "output_type": "stream",
     "text": [
      "C:\\Users\\HP\\Anaconda3\\lib\\site-packages\\ipykernel_launcher.py:19: FutureWarning: \n",
      ".ix is deprecated. Please use\n",
      ".loc for label based indexing or\n",
      ".iloc for positional indexing\n",
      "\n",
      "See the documentation here:\n",
      "http://pandas.pydata.org/pandas-docs/stable/user_guide/indexing.html#ix-indexer-is-deprecated\n",
      "C:\\Users\\HP\\Anaconda3\\lib\\site-packages\\ipykernel_launcher.py:8: FutureWarning: \n",
      ".ix is deprecated. Please use\n",
      ".loc for label based indexing or\n",
      ".iloc for positional indexing\n",
      "\n",
      "See the documentation here:\n",
      "http://pandas.pydata.org/pandas-docs/stable/user_guide/indexing.html#ix-indexer-is-deprecated\n",
      "  \n",
      "C:\\Users\\HP\\Anaconda3\\lib\\site-packages\\ipykernel_launcher.py:17: FutureWarning: \n",
      ".ix is deprecated. Please use\n",
      ".loc for label based indexing or\n",
      ".iloc for positional indexing\n",
      "\n",
      "See the documentation here:\n",
      "http://pandas.pydata.org/pandas-docs/stable/user_guide/indexing.html#ix-indexer-is-deprecated\n",
      "C:\\Users\\HP\\Anaconda3\\lib\\site-packages\\ipykernel_launcher.py:11: FutureWarning: \n",
      ".ix is deprecated. Please use\n",
      ".loc for label based indexing or\n",
      ".iloc for positional indexing\n",
      "\n",
      "See the documentation here:\n",
      "http://pandas.pydata.org/pandas-docs/stable/user_guide/indexing.html#ix-indexer-is-deprecated\n",
      "  # This is added back by InteractiveShellApp.init_path()\n",
      "C:\\Users\\HP\\Anaconda3\\lib\\site-packages\\ipykernel_launcher.py:15: FutureWarning: \n",
      ".ix is deprecated. Please use\n",
      ".loc for label based indexing or\n",
      ".iloc for positional indexing\n",
      "\n",
      "See the documentation here:\n",
      "http://pandas.pydata.org/pandas-docs/stable/user_guide/indexing.html#ix-indexer-is-deprecated\n",
      "  from ipykernel import kernelapp as app\n"
     ]
    },
    {
     "name": "stdout",
     "output_type": "stream",
     "text": [
      "The best meal is:\n",
      "CATEGORY          STARTER\n",
      "ITEM        Burrata salad\n",
      "CALORIES              360\n",
      "TYPE           Vegetarian\n",
      "PRICE                  65\n",
      "Name: 9, dtype: object\n",
      "CATEGORY    HOT DRINK\n",
      "ITEM        Green tea\n",
      "CALORIES            0\n",
      "TYPE            Vegan\n",
      "PRICE              15\n",
      "Name: 54, dtype: object\n",
      "CATEGORY    COLD DRINK\n",
      "ITEM             Pepsi\n",
      "CALORIES           120\n",
      "TYPE             Vegan\n",
      "PRICE               10\n",
      "Name: 56, dtype: object\n",
      "Fitness [1.0]\n"
     ]
    },
    {
     "data": {
      "image/png": "[encoded data removed]",
      "text/plain": [
       "<Figure size 432x288 with 1 Axes>"
      ]
     },
     "metadata": {
      "needs_background": "light"
     },
     "output_type": "display_data"
    }
   ],
   "source": [
    "#combination 23\n",
    "n = 70\n",
    "c = 0.98\n",
    "m = 0.02\n",
    "\n",
    "GA(n,c,m,itemtype,budget,calories)"
   ]
  },
  {
   "cell_type": "code",
   "execution_count": 35,
   "metadata": {},
   "outputs": [
    {
     "name": "stderr",
     "output_type": "stream",
     "text": [
      "C:\\Users\\HP\\Anaconda3\\lib\\site-packages\\ipykernel_launcher.py:19: FutureWarning: \n",
      ".ix is deprecated. Please use\n",
      ".loc for label based indexing or\n",
      ".iloc for positional indexing\n",
      "\n",
      "See the documentation here:\n",
      "http://pandas.pydata.org/pandas-docs/stable/user_guide/indexing.html#ix-indexer-is-deprecated\n",
      "C:\\Users\\HP\\Anaconda3\\lib\\site-packages\\ipykernel_launcher.py:8: FutureWarning: \n",
      ".ix is deprecated. Please use\n",
      ".loc for label based indexing or\n",
      ".iloc for positional indexing\n",
      "\n",
      "See the documentation here:\n",
      "http://pandas.pydata.org/pandas-docs/stable/user_guide/indexing.html#ix-indexer-is-deprecated\n",
      "  \n",
      "C:\\Users\\HP\\Anaconda3\\lib\\site-packages\\ipykernel_launcher.py:15: FutureWarning: \n",
      ".ix is deprecated. Please use\n",
      ".loc for label based indexing or\n",
      ".iloc for positional indexing\n",
      "\n",
      "See the documentation here:\n",
      "http://pandas.pydata.org/pandas-docs/stable/user_guide/indexing.html#ix-indexer-is-deprecated\n",
      "  from ipykernel import kernelapp as app\n",
      "C:\\Users\\HP\\Anaconda3\\lib\\site-packages\\ipykernel_launcher.py:11: FutureWarning: \n",
      ".ix is deprecated. Please use\n",
      ".loc for label based indexing or\n",
      ".iloc for positional indexing\n",
      "\n",
      "See the documentation here:\n",
      "http://pandas.pydata.org/pandas-docs/stable/user_guide/indexing.html#ix-indexer-is-deprecated\n",
      "  # This is added back by InteractiveShellApp.init_path()\n",
      "C:\\Users\\HP\\Anaconda3\\lib\\site-packages\\ipykernel_launcher.py:17: FutureWarning: \n",
      ".ix is deprecated. Please use\n",
      ".loc for label based indexing or\n",
      ".iloc for positional indexing\n",
      "\n",
      "See the documentation here:\n",
      "http://pandas.pydata.org/pandas-docs/stable/user_guide/indexing.html#ix-indexer-is-deprecated\n",
      "C:\\Users\\HP\\Anaconda3\\lib\\site-packages\\ipykernel_launcher.py:13: FutureWarning: \n",
      ".ix is deprecated. Please use\n",
      ".loc for label based indexing or\n",
      ".iloc for positional indexing\n",
      "\n",
      "See the documentation here:\n",
      "http://pandas.pydata.org/pandas-docs/stable/user_guide/indexing.html#ix-indexer-is-deprecated\n",
      "  del sys.path[0]\n"
     ]
    },
    {
     "name": "stdout",
     "output_type": "stream",
     "text": [
      "The best meal is:\n",
      "CATEGORY                    DESSERT\n",
      "ITEM        Assorted fruits platter\n",
      "CALORIES                        238\n",
      "TYPE                          Vegan\n",
      "PRICE                            22\n",
      "Name: 40, dtype: object\n",
      "CATEGORY    HOT DRINK\n",
      "ITEM        Black tea\n",
      "CALORIES            0\n",
      "TYPE            Vegan\n",
      "PRICE              15\n",
      "Name: 53, dtype: object\n",
      "CATEGORY     COLD DRINK\n",
      "ITEM        Small Water\n",
      "CALORIES              0\n",
      "TYPE              Vegan\n",
      "PRICE                10\n",
      "Name: 65, dtype: object\n",
      "Fitness [1.0]\n"
     ]
    },
    {
     "data": {
      "image/png": "[encoded data removed]",
      "text/plain": [
       "<Figure size 432x288 with 1 Axes>"
      ]
     },
     "metadata": {
      "needs_background": "light"
     },
     "output_type": "display_data"
    }
   ],
   "source": [
    "#combination 24\n",
    "n = 70\n",
    "c = 0.98\n",
    "m = 0.03\n",
    "\n",
    "GA(n,c,m,itemtype,budget,calories)"
   ]
  },
  {
   "cell_type": "code",
   "execution_count": 36,
   "metadata": {},
   "outputs": [
    {
     "name": "stderr",
     "output_type": "stream",
     "text": [
      "C:\\Users\\HP\\Anaconda3\\lib\\site-packages\\ipykernel_launcher.py:8: FutureWarning: \n",
      ".ix is deprecated. Please use\n",
      ".loc for label based indexing or\n",
      ".iloc for positional indexing\n",
      "\n",
      "See the documentation here:\n",
      "http://pandas.pydata.org/pandas-docs/stable/user_guide/indexing.html#ix-indexer-is-deprecated\n",
      "  \n",
      "C:\\Users\\HP\\Anaconda3\\lib\\site-packages\\ipykernel_launcher.py:13: FutureWarning: \n",
      ".ix is deprecated. Please use\n",
      ".loc for label based indexing or\n",
      ".iloc for positional indexing\n",
      "\n",
      "See the documentation here:\n",
      "http://pandas.pydata.org/pandas-docs/stable/user_guide/indexing.html#ix-indexer-is-deprecated\n",
      "  del sys.path[0]\n",
      "C:\\Users\\HP\\Anaconda3\\lib\\site-packages\\ipykernel_launcher.py:17: FutureWarning: \n",
      ".ix is deprecated. Please use\n",
      ".loc for label based indexing or\n",
      ".iloc for positional indexing\n",
      "\n",
      "See the documentation here:\n",
      "http://pandas.pydata.org/pandas-docs/stable/user_guide/indexing.html#ix-indexer-is-deprecated\n",
      "C:\\Users\\HP\\Anaconda3\\lib\\site-packages\\ipykernel_launcher.py:19: FutureWarning: \n",
      ".ix is deprecated. Please use\n",
      ".loc for label based indexing or\n",
      ".iloc for positional indexing\n",
      "\n",
      "See the documentation here:\n",
      "http://pandas.pydata.org/pandas-docs/stable/user_guide/indexing.html#ix-indexer-is-deprecated\n",
      "C:\\Users\\HP\\Anaconda3\\lib\\site-packages\\ipykernel_launcher.py:11: FutureWarning: \n",
      ".ix is deprecated. Please use\n",
      ".loc for label based indexing or\n",
      ".iloc for positional indexing\n",
      "\n",
      "See the documentation here:\n",
      "http://pandas.pydata.org/pandas-docs/stable/user_guide/indexing.html#ix-indexer-is-deprecated\n",
      "  # This is added back by InteractiveShellApp.init_path()\n",
      "C:\\Users\\HP\\Anaconda3\\lib\\site-packages\\ipykernel_launcher.py:15: FutureWarning: \n",
      ".ix is deprecated. Please use\n",
      ".loc for label based indexing or\n",
      ".iloc for positional indexing\n",
      "\n",
      "See the documentation here:\n",
      "http://pandas.pydata.org/pandas-docs/stable/user_guide/indexing.html#ix-indexer-is-deprecated\n",
      "  from ipykernel import kernelapp as app\n"
     ]
    },
    {
     "name": "stdout",
     "output_type": "stream",
     "text": [
      "The best meal is:\n",
      "CATEGORY                    DESSERT\n",
      "ITEM        Assorted fruits platter\n",
      "CALORIES                        238\n",
      "TYPE                          Vegan\n",
      "PRICE                            22\n",
      "Name: 40, dtype: object\n",
      "CATEGORY     COLD DRINK\n",
      "ITEM        Small Water\n",
      "CALORIES              0\n",
      "TYPE              Vegan\n",
      "PRICE                10\n",
      "Name: 65, dtype: object\n",
      "Fitness [1.0]\n"
     ]
    },
    {
     "data": {
      "image/png": "[encoded data removed]",
      "text/plain": [
       "<Figure size 432x288 with 1 Axes>"
      ]
     },
     "metadata": {
      "needs_background": "light"
     },
     "output_type": "display_data"
    }
   ],
   "source": [
    "#combination 25\n",
    "n = 70\n",
    "c = 0.97\n",
    "m = 0.01\n",
    "\n",
    "GA(n,c,m,itemtype,budget,calories)"
   ]
  },
  {
   "cell_type": "code",
   "execution_count": 37,
   "metadata": {},
   "outputs": [
    {
     "name": "stderr",
     "output_type": "stream",
     "text": [
      "C:\\Users\\HP\\Anaconda3\\lib\\site-packages\\ipykernel_launcher.py:8: FutureWarning: \n",
      ".ix is deprecated. Please use\n",
      ".loc for label based indexing or\n",
      ".iloc for positional indexing\n",
      "\n",
      "See the documentation here:\n",
      "http://pandas.pydata.org/pandas-docs/stable/user_guide/indexing.html#ix-indexer-is-deprecated\n",
      "  \n",
      "C:\\Users\\HP\\Anaconda3\\lib\\site-packages\\ipykernel_launcher.py:11: FutureWarning: \n",
      ".ix is deprecated. Please use\n",
      ".loc for label based indexing or\n",
      ".iloc for positional indexing\n",
      "\n",
      "See the documentation here:\n",
      "http://pandas.pydata.org/pandas-docs/stable/user_guide/indexing.html#ix-indexer-is-deprecated\n",
      "  # This is added back by InteractiveShellApp.init_path()\n",
      "C:\\Users\\HP\\Anaconda3\\lib\\site-packages\\ipykernel_launcher.py:15: FutureWarning: \n",
      ".ix is deprecated. Please use\n",
      ".loc for label based indexing or\n",
      ".iloc for positional indexing\n",
      "\n",
      "See the documentation here:\n",
      "http://pandas.pydata.org/pandas-docs/stable/user_guide/indexing.html#ix-indexer-is-deprecated\n",
      "  from ipykernel import kernelapp as app\n",
      "C:\\Users\\HP\\Anaconda3\\lib\\site-packages\\ipykernel_launcher.py:17: FutureWarning: \n",
      ".ix is deprecated. Please use\n",
      ".loc for label based indexing or\n",
      ".iloc for positional indexing\n",
      "\n",
      "See the documentation here:\n",
      "http://pandas.pydata.org/pandas-docs/stable/user_guide/indexing.html#ix-indexer-is-deprecated\n",
      "C:\\Users\\HP\\Anaconda3\\lib\\site-packages\\ipykernel_launcher.py:13: FutureWarning: \n",
      ".ix is deprecated. Please use\n",
      ".loc for label based indexing or\n",
      ".iloc for positional indexing\n",
      "\n",
      "See the documentation here:\n",
      "http://pandas.pydata.org/pandas-docs/stable/user_guide/indexing.html#ix-indexer-is-deprecated\n",
      "  del sys.path[0]\n",
      "C:\\Users\\HP\\Anaconda3\\lib\\site-packages\\ipykernel_launcher.py:19: FutureWarning: \n",
      ".ix is deprecated. Please use\n",
      ".loc for label based indexing or\n",
      ".iloc for positional indexing\n",
      "\n",
      "See the documentation here:\n",
      "http://pandas.pydata.org/pandas-docs/stable/user_guide/indexing.html#ix-indexer-is-deprecated\n"
     ]
    },
    {
     "name": "stdout",
     "output_type": "stream",
     "text": [
      "The best meal is:\n",
      "CATEGORY         STARTER\n",
      "ITEM        Chicken soup\n",
      "CALORIES             280\n",
      "TYPE             Regular\n",
      "PRICE                 32\n",
      "Name: 5, dtype: object\n",
      "CATEGORY     COLD DRINK\n",
      "ITEM        Large Water\n",
      "CALORIES              0\n",
      "TYPE              Vegan\n",
      "PRICE                10\n",
      "Name: 64, dtype: object\n",
      "Fitness [1.0]\n"
     ]
    },
    {
     "data": {
      "image/png": "[encoded data removed]",
      "text/plain": [
       "<Figure size 432x288 with 1 Axes>"
      ]
     },
     "metadata": {
      "needs_background": "light"
     },
     "output_type": "display_data"
    }
   ],
   "source": [
    "#combination 26\n",
    "n = 70\n",
    "c = 0.97\n",
    "m = 0.02\n",
    "\n",
    "GA(n,c,m,itemtype,budget,calories)"
   ]
  },
  {
   "cell_type": "code",
   "execution_count": 38,
   "metadata": {
    "scrolled": false
   },
   "outputs": [
    {
     "name": "stderr",
     "output_type": "stream",
     "text": [
      "C:\\Users\\HP\\Anaconda3\\lib\\site-packages\\ipykernel_launcher.py:8: FutureWarning: \n",
      ".ix is deprecated. Please use\n",
      ".loc for label based indexing or\n",
      ".iloc for positional indexing\n",
      "\n",
      "See the documentation here:\n",
      "http://pandas.pydata.org/pandas-docs/stable/user_guide/indexing.html#ix-indexer-is-deprecated\n",
      "  \n",
      "C:\\Users\\HP\\Anaconda3\\lib\\site-packages\\ipykernel_launcher.py:19: FutureWarning: \n",
      ".ix is deprecated. Please use\n",
      ".loc for label based indexing or\n",
      ".iloc for positional indexing\n",
      "\n",
      "See the documentation here:\n",
      "http://pandas.pydata.org/pandas-docs/stable/user_guide/indexing.html#ix-indexer-is-deprecated\n",
      "C:\\Users\\HP\\Anaconda3\\lib\\site-packages\\ipykernel_launcher.py:15: FutureWarning: \n",
      ".ix is deprecated. Please use\n",
      ".loc for label based indexing or\n",
      ".iloc for positional indexing\n",
      "\n",
      "See the documentation here:\n",
      "http://pandas.pydata.org/pandas-docs/stable/user_guide/indexing.html#ix-indexer-is-deprecated\n",
      "  from ipykernel import kernelapp as app\n",
      "C:\\Users\\HP\\Anaconda3\\lib\\site-packages\\ipykernel_launcher.py:17: FutureWarning: \n",
      ".ix is deprecated. Please use\n",
      ".loc for label based indexing or\n",
      ".iloc for positional indexing\n",
      "\n",
      "See the documentation here:\n",
      "http://pandas.pydata.org/pandas-docs/stable/user_guide/indexing.html#ix-indexer-is-deprecated\n"
     ]
    },
    {
     "name": "stdout",
     "output_type": "stream",
     "text": [
      "The best meal is:\n",
      "CATEGORY        STARTER\n",
      "ITEM        Lentil soup\n",
      "CALORIES            290\n",
      "TYPE              Vegan\n",
      "PRICE                26\n",
      "Name: 4, dtype: object\n",
      "CATEGORY    HOT DRINK\n",
      "ITEM        Americano\n",
      "CALORIES           15\n",
      "TYPE            Vegan\n",
      "PRICE              18\n",
      "Name: 48, dtype: object\n",
      "CATEGORY    COLD DRINK\n",
      "ITEM             Pepsi\n",
      "CALORIES           120\n",
      "TYPE             Vegan\n",
      "PRICE               10\n",
      "Name: 56, dtype: object\n",
      "Fitness [1.0]\n"
     ]
    },
    {
     "data": {
      "image/png": "[encoded data removed]",
      "text/plain": [
       "<Figure size 432x288 with 1 Axes>"
      ]
     },
     "metadata": {
      "needs_background": "light"
     },
     "output_type": "display_data"
    }
   ],
   "source": [
    "#combination 27\n",
    "n = 70\n",
    "c = 0.97\n",
    "m = 0.03\n",
    "\n",
    "GA(n,c,m,itemtype,budget,calories)"
   ]
  }
 ],
 "metadata": {
  "kernelspec": {
   "display_name": "Python 3",
   "language": "python",
   "name": "python3"
  },
  "language_info": {
   "codemirror_mode": {
    "name": "ipython",
    "version": 3
   },
   "file_extension": ".py",
   "mimetype": "text/x-python",
   "name": "python",
   "nbconvert_exporter": "python",
   "pygments_lexer": "ipython3",
   "version": "3.7.4"
  }
 },
 "nbformat": 4,
 "nbformat_minor": 2
}
